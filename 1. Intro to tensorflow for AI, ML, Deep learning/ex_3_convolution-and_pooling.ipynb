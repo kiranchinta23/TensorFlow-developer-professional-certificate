{
 "cells": [
  {
   "cell_type": "code",
   "execution_count": 1,
   "metadata": {},
   "outputs": [],
   "source": [
    "import tensorflow as tf\n",
    "import numpy as np\n",
    "import matplotlib.pyplot as plt"
   ]
  },
  {
   "cell_type": "code",
   "execution_count": 39,
   "metadata": {},
   "outputs": [],
   "source": [
    "mnist=tf.keras.datasets.mnist\n",
    "(training_images,training_labels),(testing_images,testing_labels)=mnist.load_data()"
   ]
  },
  {
   "cell_type": "code",
   "execution_count": 45,
   "metadata": {},
   "outputs": [],
   "source": [
    "class mycallback(tf.keras.callbacks.Callback):\n",
    "    def on_epoch_end(self,epoch,logs={}):\n",
    "        if(logs.get('accuracy')>=0.998):\n",
    "            print('Reached 99.8% accuracy so cancelling training!')\n",
    "            self.model.stop_training=True\n",
    "\n",
    "            \n",
    "callbacks=mycallback()"
   ]
  },
  {
   "cell_type": "code",
   "execution_count": 41,
   "metadata": {},
   "outputs": [],
   "source": [
    "training_images=training_images.reshape(60000,28,28,1)\n",
    "testing_images=testing_images.reshape(10000,28,28,1)\n",
    "training_images=training_images/255.0\n",
    "testing_images=testing_images/255.0"
   ]
  },
  {
   "cell_type": "code",
   "execution_count": 42,
   "metadata": {},
   "outputs": [
    {
     "name": "stdout",
     "output_type": "stream",
     "text": [
      "Model: \"sequential_5\"\n",
      "_________________________________________________________________\n",
      "Layer (type)                 Output Shape              Param #   \n",
      "=================================================================\n",
      "conv2d_5 (Conv2D)            (None, 26, 26, 64)        640       \n",
      "_________________________________________________________________\n",
      "max_pooling2d_5 (MaxPooling2 (None, 13, 13, 64)        0         \n",
      "_________________________________________________________________\n",
      "flatten_5 (Flatten)          (None, 10816)             0         \n",
      "_________________________________________________________________\n",
      "dense_20 (Dense)             (None, 100)               1081700   \n",
      "_________________________________________________________________\n",
      "dense_21 (Dense)             (None, 300)               30300     \n",
      "_________________________________________________________________\n",
      "dense_22 (Dense)             (None, 100)               30100     \n",
      "_________________________________________________________________\n",
      "dense_23 (Dense)             (None, 10)                1010      \n",
      "=================================================================\n",
      "Total params: 1,143,750\n",
      "Trainable params: 1,143,750\n",
      "Non-trainable params: 0\n",
      "_________________________________________________________________\n"
     ]
    }
   ],
   "source": [
    "model=tf.keras.Sequential([\n",
    "    tf.keras.layers.Conv2D(64,(3,3),activation='relu',input_shape=(28,28,1)),\n",
    "    tf.keras.layers.MaxPooling2D(2,2),\n",
    "    tf.keras.layers.Flatten(),\n",
    "    tf.keras.layers.Dense(100,activation='relu'),\n",
    "    tf.keras.layers.Dense(300,activation='relu'),\n",
    "    tf.keras.layers.Dense(100,activation='relu'),\n",
    "    tf.keras.layers.Dense(10,activation='softmax')\n",
    "])\n",
    "model.summary()"
   ]
  },
  {
   "cell_type": "code",
   "execution_count": 43,
   "metadata": {},
   "outputs": [],
   "source": [
    "model.compile(optimizer='adam',\n",
    "             loss='sparse_categorical_crossentropy',\n",
    "             metrics=['accuracy'])"
   ]
  },
  {
   "cell_type": "code",
   "execution_count": 46,
   "metadata": {},
   "outputs": [
    {
     "name": "stdout",
     "output_type": "stream",
     "text": [
      "Epoch 1/20\n",
      "1875/1875 [==============================] - 62s 33ms/step - loss: 0.0518 - accuracy: 0.9845\n",
      "Epoch 2/20\n",
      "1875/1875 [==============================] - 50s 27ms/step - loss: 0.0326 - accuracy: 0.9901\n",
      "Epoch 3/20\n",
      "1875/1875 [==============================] - 49s 26ms/step - loss: 0.0247 - accuracy: 0.9922\n",
      "Epoch 4/20\n",
      "1875/1875 [==============================] - 45s 24ms/step - loss: 0.0179 - accuracy: 0.9944\n",
      "Epoch 5/20\n",
      "1875/1875 [==============================] - 48s 25ms/step - loss: 0.0152 - accuracy: 0.9954\n",
      "Epoch 6/20\n",
      "1875/1875 [==============================] - 45s 24ms/step - loss: 0.0126 - accuracy: 0.9962\n",
      "Epoch 7/20\n",
      "1875/1875 [==============================] - 47s 25ms/step - loss: 0.0104 - accuracy: 0.9966\n",
      "Epoch 8/20\n",
      "1875/1875 [==============================] - 49s 26ms/step - loss: 0.0092 - accuracy: 0.9971\n",
      "Epoch 9/20\n",
      "1875/1875 [==============================] - 44s 23ms/step - loss: 0.0088 - accuracy: 0.9973\n",
      "Epoch 10/20\n",
      "1875/1875 [==============================] - 45s 24ms/step - loss: 0.0080 - accuracy: 0.9979\n",
      "Epoch 11/20\n",
      "1874/1875 [============================>.] - ETA: 0s - loss: 0.0067 - accuracy: 0.9980Reached 99.8% accuracy so cancelling training!\n",
      "1875/1875 [==============================] - 47s 25ms/step - loss: 0.0067 - accuracy: 0.9980\n"
     ]
    }
   ],
   "source": [
    "history=model.fit(training_images,\n",
    "                 training_labels,\n",
    "                 epochs=20,\n",
    "                 callbacks=[callbacks])"
   ]
  },
  {
   "cell_type": "code",
   "execution_count": null,
   "metadata": {},
   "outputs": [],
   "source": []
  },
  {
   "cell_type": "code",
   "execution_count": null,
   "metadata": {},
   "outputs": [],
   "source": []
  }
 ],
 "metadata": {
  "kernelspec": {
   "display_name": "Python 3",
   "language": "python",
   "name": "python3"
  },
  "language_info": {
   "codemirror_mode": {
    "name": "ipython",
    "version": 3
   },
   "file_extension": ".py",
   "mimetype": "text/x-python",
   "name": "python",
   "nbconvert_exporter": "python",
   "pygments_lexer": "ipython3",
   "version": "3.7.3"
  }
 },
 "nbformat": 4,
 "nbformat_minor": 4
}
