{
 "cells": [
  {
   "cell_type": "code",
   "execution_count": 1,
   "metadata": {},
   "outputs": [],
   "source": [
    "import tensorflow as tf\n",
    "import numpy as np\n",
    "import matplotlib.pyplot as plt\n",
    "import os\n",
    "import zipfile\n",
    "from tensorflow.keras.preprocessing.image import ImageDataGenerator\n",
    "import wget"
   ]
  },
  {
   "cell_type": "code",
   "execution_count": 14,
   "metadata": {},
   "outputs": [],
   "source": [
    "training=wget.download('https://storage.googleapis.com/laurencemoroney-blog.appspot.com/horse-or-human.zip',bar=None)\n",
    "testing=wget.download('https://storage.googleapis.com/laurencemoroney-blog.appspot.com/validation-horse-or-human.zip',bar=None)"
   ]
  },
  {
   "cell_type": "code",
   "execution_count": 22,
   "metadata": {},
   "outputs": [
    {
     "name": "stdout",
     "output_type": "stream",
     "text": [
      "<class 'str'>\n"
     ]
    }
   ],
   "source": [
    "k=os.getcwd()\n",
    "print(type(k))"
   ]
  },
  {
   "cell_type": "code",
   "execution_count": 26,
   "metadata": {},
   "outputs": [],
   "source": [
    "zip_ref=zipfile.ZipFile(training,'r')\n",
    "zip_ref.extractall('D:/win_Downloads/horse-or-humnan')\n",
    "zip_ref=zipfile.ZipFile(testing,'r')\n",
    "zip_ref.extractall('D:/win_Downloads/validation-horse-or-humnan')"
   ]
  },
  {
   "cell_type": "code",
   "execution_count": 60,
   "metadata": {},
   "outputs": [
    {
     "name": "stdout",
     "output_type": "stream",
     "text": [
      "Found 1027 images belonging to 2 classes.\n",
      "Found 256 images belonging to 2 classes.\n"
     ]
    }
   ],
   "source": [
    "train_datagen=ImageDataGenerator(rescale=1./255)\n",
    "validation_datagen=ImageDataGenerator(rescale=1./255)\n",
    "\n",
    "train_generator=train_datagen.flow_from_directory('D:/win_Downloads/horse-or-humnan',\n",
    "                                                  target_size=(300,300),\n",
    "                                                  batch_size=79,\n",
    "                                                  class_mode='binary'\n",
    "                                                 )\n",
    "\n",
    "validation_generator=validation_datagen.flow_from_directory('D:/win_Downloads/validation-horse-or-humnan',\n",
    "                                                  target_size=(300,300),\n",
    "                                                  batch_size=32,\n",
    "                                                  class_mode='binary'\n",
    "                                                 )"
   ]
  },
  {
   "cell_type": "code",
   "execution_count": 70,
   "metadata": {},
   "outputs": [],
   "source": [
    "class mycallback(tf.keras.callbacks.Callback):\n",
    "    def on_epoch_end(self,epoch,logs={}):\n",
    "        if(logs.get('acc')>0.90):\n",
    "            print('accuracy reached: 0.999')\n",
    "            self.model.stop_training=True\n",
    "callbacks=mycallback()"
   ]
  },
  {
   "cell_type": "code",
   "execution_count": 71,
   "metadata": {},
   "outputs": [],
   "source": [
    "model=tf.keras.models.Sequential([\n",
    "    tf.keras.layers.Conv2D(16,(3,3),activation='relu',input_shape=(300,300,3)),\n",
    "    tf.keras.layers.MaxPooling2D(2,2),\n",
    "    tf.keras.layers.Conv2D(32,(3,3),activation='relu'),\n",
    "    tf.keras.layers.MaxPooling2D(2,2),\n",
    "    tf.keras.layers.Conv2D(64,(3,3),activation='relu'),\n",
    "    tf.keras.layers.MaxPooling2D(2,2),\n",
    "    tf.keras.layers.Flatten(),\n",
    "    tf.keras.layers.Dense(512,activation='relu'),\n",
    "    tf.keras.layers.Dense(256,activation='relu'),\n",
    "    tf.keras.layers.Dense(120,activation='relu'),\n",
    "    tf.keras.layers.Dense(20,activation='relu'),\n",
    "    tf.keras.layers.Dense(1,activation='sigmoid')\n",
    "])"
   ]
  },
  {
   "cell_type": "code",
   "execution_count": 72,
   "metadata": {},
   "outputs": [
    {
     "name": "stdout",
     "output_type": "stream",
     "text": [
      "_________________________________________________________________\n",
      "Layer (type)                 Output Shape              Param #   \n",
      "=================================================================\n",
      "conv2d_18 (Conv2D)           (None, 298, 298, 16)      448       \n",
      "_________________________________________________________________\n",
      "max_pooling2d_18 (MaxPooling (None, 149, 149, 16)      0         \n",
      "_________________________________________________________________\n",
      "conv2d_19 (Conv2D)           (None, 147, 147, 32)      4640      \n",
      "_________________________________________________________________\n",
      "max_pooling2d_19 (MaxPooling (None, 73, 73, 32)        0         \n",
      "_________________________________________________________________\n",
      "conv2d_20 (Conv2D)           (None, 71, 71, 64)        18496     \n",
      "_________________________________________________________________\n",
      "max_pooling2d_20 (MaxPooling (None, 35, 35, 64)        0         \n",
      "_________________________________________________________________\n",
      "flatten_6 (Flatten)          (None, 78400)             0         \n",
      "_________________________________________________________________\n",
      "dense_15 (Dense)             (None, 512)               40141312  \n",
      "_________________________________________________________________\n",
      "dense_16 (Dense)             (None, 256)               131328    \n",
      "_________________________________________________________________\n",
      "dense_17 (Dense)             (None, 120)               30840     \n",
      "_________________________________________________________________\n",
      "dense_18 (Dense)             (None, 20)                2420      \n",
      "_________________________________________________________________\n",
      "dense_19 (Dense)             (None, 1)                 21        \n",
      "=================================================================\n",
      "Total params: 40,329,505\n",
      "Trainable params: 40,329,505\n",
      "Non-trainable params: 0\n",
      "_________________________________________________________________\n"
     ]
    }
   ],
   "source": [
    "model.summary()"
   ]
  },
  {
   "cell_type": "code",
   "execution_count": 73,
   "metadata": {},
   "outputs": [],
   "source": [
    "from tensorflow.keras.optimizers import RMSprop\n",
    "model.compile(loss='binary_crossentropy',\n",
    "             optimizer=RMSprop(lr=0.001),\n",
    "             metrics=['acc'])"
   ]
  },
  {
   "cell_type": "code",
   "execution_count": 74,
   "metadata": {},
   "outputs": [
    {
     "name": "stdout",
     "output_type": "stream",
     "text": [
      "Epoch 1/15\n",
      "8/8 [==============================] - 9s 1s/step - loss: 0.4967 - acc: 0.8555\n",
      "13/13 [==============================] - 111s 9s/step - loss: 1.6852 - acc: 0.5540 - val_loss: 0.4967 - val_acc: 0.8555\n",
      "Epoch 2/15\n",
      "8/8 [==============================] - 12s 2s/step - loss: 0.5227 - acc: 0.7422\n",
      "13/13 [==============================] - 121s 9s/step - loss: 0.6677 - acc: 0.6417 - val_loss: 0.5227 - val_acc: 0.7422\n",
      "Epoch 3/15\n",
      "8/8 [==============================] - 9s 1s/step - loss: 0.9326 - acc: 0.8164\n",
      "13/13 [==============================] - 104s 8s/step - loss: 0.3582 - acc: 0.8734 - val_loss: 0.9326 - val_acc: 0.8164\n",
      "Epoch 4/15\n",
      "8/8 [==============================] - 9s 1s/step - loss: 1.2633 - acc: 0.7852\n",
      "13/13 [==============================] - 104s 8s/step - loss: 0.6225 - acc: 0.8676 - val_loss: 1.2633 - val_acc: 0.7852\n",
      "Epoch 5/15\n",
      "8/8 [==============================] - 13s 2s/step - loss: 0.8878 - acc: 0.8672\n",
      "accuracy reached: 0.999\n",
      "13/13 [==============================] - 112s 9s/step - loss: 0.1076 - acc: 0.9542 - val_loss: 0.8878 - val_acc: 0.8672\n"
     ]
    }
   ],
   "source": [
    "history=model.fit_generator(train_generator,\n",
    "                            steps_per_epoch=13,\n",
    "                            epochs=15,\n",
    "                            validation_data=validation_generator,\n",
    "                            validation_steps=8,\n",
    "                            callbacks=[callbacks],\n",
    "                            verbose=1\n",
    "                           )"
   ]
  },
  {
   "cell_type": "code",
   "execution_count": null,
   "metadata": {},
   "outputs": [],
   "source": []
  },
  {
   "cell_type": "code",
   "execution_count": null,
   "metadata": {},
   "outputs": [],
   "source": []
  }
 ],
 "metadata": {
  "kernelspec": {
   "display_name": "Python 3",
   "language": "python",
   "name": "python3"
  },
  "language_info": {
   "codemirror_mode": {
    "name": "ipython",
    "version": 3
   },
   "file_extension": ".py",
   "mimetype": "text/x-python",
   "name": "python",
   "nbconvert_exporter": "python",
   "pygments_lexer": "ipython3",
   "version": "3.5.4"
  }
 },
 "nbformat": 4,
 "nbformat_minor": 4
}
