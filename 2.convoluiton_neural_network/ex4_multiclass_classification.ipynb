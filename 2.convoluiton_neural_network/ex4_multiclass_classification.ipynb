{
 "cells": [
  {
   "cell_type": "code",
   "execution_count": 1,
   "metadata": {},
   "outputs": [],
   "source": [
    "import csv\n",
    "import numpy as np\n",
    "import tensorflow as tf\n",
    "from tensorflow.keras.preprocessing.image import ImageDataGenerator\n",
    "from os import getcwd"
   ]
  },
  {
   "cell_type": "markdown",
   "metadata": {},
   "source": [
    "download the data from the url: https://www.kaggle.com/datamunge/sign-language-mnist/home"
   ]
  },
  {
   "cell_type": "code",
   "execution_count": 2,
   "metadata": {},
   "outputs": [],
   "source": [
    "def get_data(filename):\n",
    "    with open(filename) as training_file:\n",
    "        reader=csv.reader(training_file,delimiter=',')\n",
    "        imgs=[]\n",
    "        labels=[]\n",
    "        \n",
    "        next(reader,None)\n",
    "        \n",
    "        for row in reader:\n",
    "            label=row[0]\n",
    "            data=row[1:]\n",
    "            img=np.array(data).reshape(28,28)\n",
    "            \n",
    "            imgs.append(img)\n",
    "            labels.append(label)\n",
    "        \n",
    "        images=np.array(imgs).astype(float)\n",
    "        labels=np.array(labels).astype(float)\n",
    "    \n",
    "    return images,labels"
   ]
  },
  {
   "cell_type": "code",
   "execution_count": 3,
   "metadata": {},
   "outputs": [],
   "source": [
    "training_images, training_labels = get_data('sign_mnist_train.csv')\n",
    "testing_images, testing_labels = get_data('sign_mnist_test.csv')"
   ]
  },
  {
   "cell_type": "code",
   "execution_count": 4,
   "metadata": {},
   "outputs": [
    {
     "name": "stdout",
     "output_type": "stream",
     "text": [
      "(27455, 28, 28)\n",
      "(27455,)\n",
      "(7172, 28, 28)\n",
      "(7172,)\n"
     ]
    }
   ],
   "source": [
    "print(training_images.shape)\n",
    "print(training_labels.shape)\n",
    "print(testing_images.shape)\n",
    "print(testing_labels.shape)"
   ]
  },
  {
   "cell_type": "code",
   "execution_count": 5,
   "metadata": {},
   "outputs": [
    {
     "name": "stdout",
     "output_type": "stream",
     "text": [
      "(27455, 28, 28, 1)\n",
      "(7172, 28, 28, 1)\n"
     ]
    }
   ],
   "source": [
    "training_images = np.expand_dims(training_images, axis=3)\n",
    "testing_images = np.expand_dims(testing_images, axis=3)\n",
    "\n",
    "# Create an ImageDataGenerator and do Image Augmentation\n",
    "train_datagen = ImageDataGenerator(\n",
    "    rescale=1. / 255,\n",
    "    rotation_range=40,\n",
    "    width_shift_range=0.2,\n",
    "    height_shift_range=0.2,\n",
    "    shear_range=0.2,\n",
    "    zoom_range=0.2,\n",
    "    horizontal_flip=True,\n",
    "    fill_mode='nearest'\n",
    ")\n",
    "\n",
    "validation_datagen = ImageDataGenerator(\n",
    "    rescale=1 / 255\n",
    ")\n",
    "    \n",
    "# Keep These\n",
    "print(training_images.shape)\n",
    "print(testing_images.shape)"
   ]
  },
  {
   "cell_type": "markdown",
   "metadata": {},
   "source": [
    "# step dealing with model"
   ]
  },
  {
   "cell_type": "code",
   "execution_count": 6,
   "metadata": {},
   "outputs": [
    {
     "name": "stdout",
     "output_type": "stream",
     "text": [
      "WARNING:tensorflow:From c:\\users\\kiran\\appdata\\local\\programs\\python\\python35\\lib\\site-packages\\tensorflow\\python\\ops\\resource_variable_ops.py:435: colocate_with (from tensorflow.python.framework.ops) is deprecated and will be removed in a future version.\n",
      "Instructions for updating:\n",
      "Colocations handled automatically by placer.\n",
      "Epoch 1/20\n",
      "113/113 [==============================] - 2s 18ms/step - loss: 2.0560 - acc: 0.3190\n",
      "429/429 [==============================] - 41s 95ms/step - loss: 2.7817 - acc: 0.1586 - val_loss: 2.0560 - val_acc: 0.3190\n",
      "Epoch 2/20\n",
      "113/113 [==============================] - 2s 16ms/step - loss: 1.3699 - acc: 0.5158\n",
      "429/429 [==============================] - 25s 58ms/step - loss: 2.0923 - acc: 0.3408 - val_loss: 1.3699 - val_acc: 0.5158\n",
      "Epoch 3/20\n",
      "113/113 [==============================] - 4s 31ms/step - loss: 1.1068 - acc: 0.6061\n",
      "429/429 [==============================] - 54s 126ms/step - loss: 1.7138 - acc: 0.4518 - val_loss: 1.1068 - val_acc: 0.6061\n",
      "Epoch 4/20\n",
      "113/113 [==============================] - 2s 21ms/step - loss: 0.9980 - acc: 0.6397: 0s - loss: 1.0040 - acc: 0.639\n",
      "429/429 [==============================] - 39s 92ms/step - loss: 1.4533 - acc: 0.5281 - val_loss: 0.9980 - val_acc: 0.6397\n",
      "Epoch 5/20\n",
      "113/113 [==============================] - 2s 17ms/step - loss: 0.8442 - acc: 0.6917\n",
      "429/429 [==============================] - 31s 71ms/step - loss: 1.2668 - acc: 0.5881 - val_loss: 0.8442 - val_acc: 0.6917\n",
      "Epoch 6/20\n",
      "113/113 [==============================] - 2s 17ms/step - loss: 0.6721 - acc: 0.7639\n",
      "429/429 [==============================] - 26s 61ms/step - loss: 1.1014 - acc: 0.6392 - val_loss: 0.6721 - val_acc: 0.7639\n",
      "Epoch 7/20\n",
      "113/113 [==============================] - 2s 16ms/step - loss: 0.6307 - acc: 0.7761\n",
      "429/429 [==============================] - 26s 61ms/step - loss: 0.9973 - acc: 0.6716 - val_loss: 0.6307 - val_acc: 0.7761\n",
      "Epoch 8/20\n",
      "113/113 [==============================] - 2s 17ms/step - loss: 0.4817 - acc: 0.8391: 0s - loss: 0.4805 - a\n",
      "429/429 [==============================] - 26s 61ms/step - loss: 0.9084 - acc: 0.7015 - val_loss: 0.4817 - val_acc: 0.8391\n",
      "Epoch 9/20\n",
      "113/113 [==============================] - 2s 16ms/step - loss: 0.4448 - acc: 0.8514\n",
      "429/429 [==============================] - 26s 61ms/step - loss: 0.8314 - acc: 0.7244 - val_loss: 0.4448 - val_acc: 0.8514\n",
      "Epoch 10/20\n",
      "113/113 [==============================] - 4s 33ms/step - loss: 0.4367 - acc: 0.8406: 0s - loss: 0.4428 - acc\n",
      "429/429 [==============================] - 54s 126ms/step - loss: 0.7675 - acc: 0.7459 - val_loss: 0.4367 - val_acc: 0.8406\n",
      "Epoch 11/20\n",
      "113/113 [==============================] - 2s 20ms/step - loss: 0.4421 - acc: 0.8325\n",
      "429/429 [==============================] - 35s 80ms/step - loss: 0.7154 - acc: 0.7613 - val_loss: 0.4421 - val_acc: 0.8325\n",
      "Epoch 12/20\n",
      "113/113 [==============================] - 2s 17ms/step - loss: 0.2991 - acc: 0.9096\n",
      "429/429 [==============================] - 28s 66ms/step - loss: 0.6582 - acc: 0.7820 - val_loss: 0.2991 - val_acc: 0.9096\n",
      "Epoch 13/20\n",
      "113/113 [==============================] - 2s 16ms/step - loss: 0.2615 - acc: 0.9136\n",
      "429/429 [==============================] - 26s 61ms/step - loss: 0.6303 - acc: 0.7897 - val_loss: 0.2615 - val_acc: 0.9136\n",
      "Epoch 14/20\n",
      "113/113 [==============================] - 2s 17ms/step - loss: 0.2606 - acc: 0.9163\n",
      "429/429 [==============================] - 26s 61ms/step - loss: 0.5824 - acc: 0.8046 - val_loss: 0.2606 - val_acc: 0.9163\n",
      "Epoch 15/20\n",
      "113/113 [==============================] - 2s 17ms/step - loss: 0.2648 - acc: 0.9038: 1s - loss: 0.26\n",
      "429/429 [==============================] - 27s 63ms/step - loss: 0.5661 - acc: 0.8100 - val_loss: 0.2648 - val_acc: 0.9038\n",
      "Epoch 16/20\n",
      "113/113 [==============================] - 2s 16ms/step - loss: 0.2618 - acc: 0.9070\n",
      "429/429 [==============================] - 26s 61ms/step - loss: 0.5262 - acc: 0.8243 - val_loss: 0.2618 - val_acc: 0.9070\n",
      "Epoch 17/20\n",
      "113/113 [==============================] - 3s 28ms/step - loss: 0.2176 - acc: 0.9241: 0s - loss: 0.2161 - ac\n",
      "429/429 [==============================] - 50s 116ms/step - loss: 0.5017 - acc: 0.8326 - val_loss: 0.2176 - val_acc: 0.9241\n",
      "Epoch 18/20\n",
      "113/113 [==============================] - 3s 28ms/step - loss: 0.2696 - acc: 0.9027\n",
      "429/429 [==============================] - 45s 104ms/step - loss: 0.4849 - acc: 0.8368 - val_loss: 0.2696 - val_acc: 0.9027\n",
      "Epoch 19/20\n",
      "113/113 [==============================] - 3s 26ms/step - loss: 0.2431 - acc: 0.9175\n",
      "429/429 [==============================] - 42s 99ms/step - loss: 0.4645 - acc: 0.8452 - val_loss: 0.2431 - val_acc: 0.9175\n",
      "Epoch 20/20\n",
      "113/113 [==============================] - 2s 22ms/step - loss: 0.2475 - acc: 0.9193\n",
      "429/429 [==============================] - 50s 118ms/step - loss: 0.4411 - acc: 0.8518 - val_loss: 0.2475 - val_acc: 0.9193\n",
      "7172/7172 [==============================] - 2s 348us/sample - loss: 5.2335 - acc: 0.6729\n"
     ]
    },
    {
     "data": {
      "text/plain": [
       "[5.233548095238918, 0.6728946]"
      ]
     },
     "execution_count": 6,
     "metadata": {},
     "output_type": "execute_result"
    }
   ],
   "source": [
    "model = tf.keras.models.Sequential([\n",
    "    tf.keras.layers.Conv2D(32, (3,3), activation='relu', input_shape=(28, 28, 1)),\n",
    "    tf.keras.layers.MaxPooling2D(2,2),\n",
    "    tf.keras.layers.Conv2D(32, (3,3), activation='relu'),\n",
    "    tf.keras.layers.MaxPooling2D(2,2),\n",
    "    tf.keras.layers.Flatten(),\n",
    "    tf.keras.layers.Dense(512, activation='relu'),\n",
    "    tf.keras.layers.Dense(26, activation='softmax')\n",
    "])\n",
    "\n",
    "# Compile Model. \n",
    "model.compile(\n",
    "    optimizer='adam',\n",
    "    loss='sparse_categorical_crossentropy',\n",
    "    metrics=['accuracy']\n",
    ")\n",
    "\n",
    "# Configure generators\n",
    "train_gen = train_datagen.flow(\n",
    "    training_images,\n",
    "    training_labels,\n",
    "    batch_size=64\n",
    ")\n",
    "\n",
    "val_gen = validation_datagen.flow(\n",
    "    testing_images,\n",
    "    testing_labels,\n",
    "    batch_size=64\n",
    ")\n",
    "\n",
    "# Train the Model\n",
    "history = model.fit_generator(\n",
    "    train_gen,\n",
    "    epochs=20,\n",
    "    validation_data=val_gen\n",
    ")\n",
    "\n",
    "model.evaluate(testing_images, testing_labels)\n",
    "    "
   ]
  },
  {
   "cell_type": "code",
   "execution_count": 8,
   "metadata": {},
   "outputs": [
    {
     "data": {
      "image/png": "[encoded data removed]",
      "text/plain": [
       "<Figure size 432x288 with 1 Axes>"
      ]
     },
     "metadata": {
      "needs_background": "light"
     },
     "output_type": "display_data"
    },
    {
     "data": {
      "image/png": "[encoded data removed]",
      "text/plain": [
       "<Figure size 432x288 with 1 Axes>"
      ]
     },
     "metadata": {
      "needs_background": "light"
     },
     "output_type": "display_data"
    }
   ],
   "source": [
    "import matplotlib.pyplot as plt\n",
    "\n",
    "acc = history.history['acc']\n",
    "val_acc = history.history['val_acc']\n",
    "loss = history.history['loss']\n",
    "val_loss = history.history['val_loss']\n",
    "\n",
    "epochs = range(len(acc))\n",
    "\n",
    "plt.plot(epochs, acc, 'r', label='Training accuracy')\n",
    "plt.plot(epochs, val_acc, 'b', label='Validation accuracy')\n",
    "plt.title('Training and validation accuracy')\n",
    "plt.legend()\n",
    "plt.figure()\n",
    "\n",
    "plt.plot(epochs, loss, 'r', label='Training Loss')\n",
    "plt.plot(epochs, val_loss, 'b', label='Validation Loss')\n",
    "plt.title('Training and validation loss')\n",
    "plt.legend()\n",
    "\n",
    "plt.show()"
   ]
  },
  {
   "cell_type": "code",
   "execution_count": null,
   "metadata": {},
   "outputs": [],
   "source": []
  }
 ],
 "metadata": {
  "kernelspec": {
   "display_name": "Python 3",
   "language": "python",
   "name": "python3"
  },
  "language_info": {
   "codemirror_mode": {
    "name": "ipython",
    "version": 3
   },
   "file_extension": ".py",
   "mimetype": "text/x-python",
   "name": "python",
   "nbconvert_exporter": "python",
   "pygments_lexer": "ipython3",
   "version": "3.5.4"
  }
 },
 "nbformat": 4,
 "nbformat_minor": 4
}
