{
 "cells": [
  {
   "cell_type": "code",
   "execution_count": 38,
   "metadata": {},
   "outputs": [],
   "source": [
    "import os\n",
    "import zipfile\n",
    "import random\n",
    "import tensorflow as tf\n",
    "import shutil\n",
    "from tensorflow.keras.optimizers import RMSprop\n",
    "from tensorflow.keras.preprocessing.image import ImageDataGenerator\n",
    "from shutil import copyfile\n",
    "from os import getcwd\n",
    "import wget"
   ]
  },
  {
   "cell_type": "code",
   "execution_count": 39,
   "metadata": {},
   "outputs": [],
   "source": [
    "training=wget.download('https://download.microsoft.com/download/3/E/1/3E1C3F21-ECDB-4869-8368-6DEBA77B919F/kagglecatsanddogs_3367a.zip',bar=None)\n"
   ]
  },
  {
   "cell_type": "code",
   "execution_count": 40,
   "metadata": {},
   "outputs": [],
   "source": [
    "zip_ref=zipfile.ZipFile(training,'r')\n",
    "zip_ref.extractall('D:/win_Downloads/cats_v_dogs')"
   ]
  },
  {
   "cell_type": "code",
   "execution_count": 42,
   "metadata": {},
   "outputs": [],
   "source": [
    "os.mkdir('D:/win_Downloads/cats_v_dogs/tranining')\n",
    "os.mkdir('D:/win_Downloads/cats_v_dogs/tranining/cats')\n",
    "os.mkdir('D:/win_Downloads/cats_v_dogs/tranining/dogs')\n",
    "os.mkdir('D:/win_Downloads/cats_v_dogs/validation')\n",
    "os.mkdir('D:/win_Downloads/cats_v_dogs/validation/cats')\n",
    "os.mkdir('D:/win_Downloads/cats_v_dogs/validation/dogs')"
   ]
  },
  {
   "cell_type": "code",
   "execution_count": 43,
   "metadata": {},
   "outputs": [],
   "source": [
    "def split_data(source,training,testing,split_size):\n",
    "    all_files=[]\n",
    "    for file_name in os.listdir(source):\n",
    "        filepath=source+'/'+file_name\n",
    "        \n",
    "        if os.path.getsize(filepath):\n",
    "            all_files.append(file_name)\n",
    "        else:\n",
    "            print('{} is zero length, ignoring!!'.format(filepath))\n",
    "    \n",
    "    n_files=len(all_files)\n",
    "    split_point=int(n_files*split_size)\n",
    "    \n",
    "    shuffled=random.sample(all_files,n_files)\n",
    "    \n",
    "    train_set=all_files[:split_point]\n",
    "    test_set=all_files[split_point:]\n",
    "    \n",
    "    for file in train_set:\n",
    "        copyfile(source+'/'+file, training+'/'+file)\n",
    "        \n",
    "    for file in test_set:\n",
    "        copyfile(source+'/'+file, testing+'/'+file)"
   ]
  },
  {
   "cell_type": "code",
   "execution_count": 44,
   "metadata": {},
   "outputs": [],
   "source": [
    "cat_src_dir='D:/win_Downloads/cats_v_dogs/PetImages/Cat'\n",
    "dog_src_dir='D:/win_Downloads/cats_v_dogs/PetImages/Dog'\n",
    "train_cats_dir='D:/win_Downloads/cats_v_dogs/tranining/cats'\n",
    "train_dogs_dir='D:/win_Downloads/cats_v_dogs/tranining/dogs'\n",
    "valid_cats_dir='D:/win_Downloads/cats_v_dogs/validation/cats'\n",
    "valid_dogs_dir='D:/win_Downloads/cats_v_dogs/validation/dogs'"
   ]
  },
  {
   "cell_type": "code",
   "execution_count": 45,
   "metadata": {},
   "outputs": [
    {
     "name": "stdout",
     "output_type": "stream",
     "text": [
      "D:/win_Downloads/cats_v_dogs/PetImages/Cat/666.jpg is zero length, ignoring!!\n",
      "D:/win_Downloads/cats_v_dogs/PetImages/Dog/11702.jpg is zero length, ignoring!!\n"
     ]
    }
   ],
   "source": [
    "split_data(cat_src_dir,train_cats_dir,valid_cats_dir,0.9)\n",
    "split_data(dog_src_dir,train_dogs_dir,valid_dogs_dir,0.9)"
   ]
  },
  {
   "cell_type": "code",
   "execution_count": 46,
   "metadata": {},
   "outputs": [
    {
     "name": "stdout",
     "output_type": "stream",
     "text": [
      "11250\n",
      "11250\n",
      "1250\n",
      "1250\n"
     ]
    }
   ],
   "source": [
    "print(len(os.listdir(train_cats_dir)))\n",
    "print(len(os.listdir(train_dogs_dir)))\n",
    "print(len(os.listdir(valid_cats_dir)))\n",
    "print(len(os.listdir(valid_dogs_dir)))"
   ]
  },
  {
   "cell_type": "code",
   "execution_count": 47,
   "metadata": {},
   "outputs": [
    {
     "name": "stdout",
     "output_type": "stream",
     "text": [
      "Found 22500 images belonging to 2 classes.\n",
      "Found 2498 images belonging to 2 classes.\n"
     ]
    }
   ],
   "source": [
    "train_datagen=ImageDataGenerator(rescale=1./255)\n",
    "valid_datagen=ImageDataGenerator(rescale=1./255)\n",
    "\n",
    "train_generator=train_datagen.flow_from_directory('D:/win_Downloads/cats_v_dogs/tranining',\n",
    "                                                 target_size=(150,150),\n",
    "                                                 batch_size=64,\n",
    "                                                 class_mode='binary')\n",
    "\n",
    "valid_generator=valid_datagen.flow_from_directory('D:/win_Downloads/cats_v_dogs/validation',\n",
    "                                                 target_size=(150,150),\n",
    "                                                 batch_size=64,\n",
    "                                                 class_mode='binary')"
   ]
  },
  {
   "cell_type": "code",
   "execution_count": 48,
   "metadata": {},
   "outputs": [
    {
     "name": "stdout",
     "output_type": "stream",
     "text": [
      "WARNING:tensorflow:From c:\\users\\kiran\\appdata\\local\\programs\\python\\python35\\lib\\site-packages\\tensorflow\\python\\ops\\resource_variable_ops.py:435: colocate_with (from tensorflow.python.framework.ops) is deprecated and will be removed in a future version.\n",
      "Instructions for updating:\n",
      "Colocations handled automatically by placer.\n"
     ]
    }
   ],
   "source": [
    "model = tf.keras.models.Sequential([\n",
    "    tf.keras.layers.Conv2D(32, (3,3), activation='relu', input_shape=(150, 150, 3)),\n",
    "    tf.keras.layers.MaxPooling2D(2,2),\n",
    "    tf.keras.layers.Conv2D(32, (3,3), activation='relu'),\n",
    "    tf.keras.layers.MaxPooling2D(2,2),\n",
    "    tf.keras.layers.Conv2D(64, (2,2), activation='relu'),\n",
    "    tf.keras.layers.MaxPooling2D(2,2),\n",
    "    tf.keras.layers.Flatten(),\n",
    "    tf.keras.layers.Dense(512, activation='relu'),\n",
    "    tf.keras.layers.Dense(1, activation='sigmoid')\n",
    "])"
   ]
  },
  {
   "cell_type": "code",
   "execution_count": 50,
   "metadata": {},
   "outputs": [],
   "source": [
    "model.compile(optimizer=RMSprop(lr=0.001),\n",
    "              loss='binary_crossentropy',\n",
    "              metrics=['acc'])"
   ]
  },
  {
   "cell_type": "code",
   "execution_count": 54,
   "metadata": {},
   "outputs": [
    {
     "name": "stdout",
     "output_type": "stream",
     "text": [
      "Epoch 1/2\n",
      "31/40 [======================>.......] - ETA: 15s - loss: 0.4972 - acc: 0.7566"
     ]
    },
    {
     "name": "stderr",
     "output_type": "stream",
     "text": [
      "c:\\users\\kiran\\appdata\\local\\programs\\python\\python35\\lib\\site-packages\\PIL\\TiffImagePlugin.py:766: UserWarning: Possibly corrupt EXIF data.  Expecting to read 32 bytes but only got 0. Skipping tag 270\n",
      "  \" Skipping tag %s\" % (size, len(data), tag)\n",
      "c:\\users\\kiran\\appdata\\local\\programs\\python\\python35\\lib\\site-packages\\PIL\\TiffImagePlugin.py:766: UserWarning: Possibly corrupt EXIF data.  Expecting to read 5 bytes but only got 0. Skipping tag 271\n",
      "  \" Skipping tag %s\" % (size, len(data), tag)\n",
      "c:\\users\\kiran\\appdata\\local\\programs\\python\\python35\\lib\\site-packages\\PIL\\TiffImagePlugin.py:766: UserWarning: Possibly corrupt EXIF data.  Expecting to read 8 bytes but only got 0. Skipping tag 272\n",
      "  \" Skipping tag %s\" % (size, len(data), tag)\n",
      "c:\\users\\kiran\\appdata\\local\\programs\\python\\python35\\lib\\site-packages\\PIL\\TiffImagePlugin.py:766: UserWarning: Possibly corrupt EXIF data.  Expecting to read 8 bytes but only got 0. Skipping tag 282\n",
      "  \" Skipping tag %s\" % (size, len(data), tag)\n",
      "c:\\users\\kiran\\appdata\\local\\programs\\python\\python35\\lib\\site-packages\\PIL\\TiffImagePlugin.py:766: UserWarning: Possibly corrupt EXIF data.  Expecting to read 8 bytes but only got 0. Skipping tag 283\n",
      "  \" Skipping tag %s\" % (size, len(data), tag)\n",
      "c:\\users\\kiran\\appdata\\local\\programs\\python\\python35\\lib\\site-packages\\PIL\\TiffImagePlugin.py:766: UserWarning: Possibly corrupt EXIF data.  Expecting to read 20 bytes but only got 0. Skipping tag 306\n",
      "  \" Skipping tag %s\" % (size, len(data), tag)\n",
      "c:\\users\\kiran\\appdata\\local\\programs\\python\\python35\\lib\\site-packages\\PIL\\TiffImagePlugin.py:766: UserWarning: Possibly corrupt EXIF data.  Expecting to read 48 bytes but only got 0. Skipping tag 532\n",
      "  \" Skipping tag %s\" % (size, len(data), tag)\n",
      "c:\\users\\kiran\\appdata\\local\\programs\\python\\python35\\lib\\site-packages\\PIL\\TiffImagePlugin.py:785: UserWarning: Corrupt EXIF data.  Expecting to read 2 bytes but only got 0. \n",
      "  warnings.warn(str(msg))\n"
     ]
    },
    {
     "name": "stdout",
     "output_type": "stream",
     "text": [
      "40/40 [==============================] - 67s 2s/step - loss: 0.4999 - acc: 0.7522\n",
      "352/352 [==============================] - 708s 2s/step - loss: 0.5351 - acc: 0.7281 - val_loss: 0.4999 - val_acc: 0.7522\n",
      "Epoch 2/2\n",
      "40/40 [==============================] - 28s 698ms/step - loss: 0.6417 - acc: 0.7302\n",
      "352/352 [==============================] - 667s 2s/step - loss: 0.4513 - acc: 0.7848 - val_loss: 0.6417 - val_acc: 0.7302\n"
     ]
    }
   ],
   "source": [
    "history=model.fit_generator(train_generator,\n",
    "                           epochs=2,\n",
    "                           verbose=1,\n",
    "                           validation_data=valid_generator)"
   ]
  },
  {
   "cell_type": "code",
   "execution_count": 55,
   "metadata": {},
   "outputs": [
    {
     "data": {
      "text/plain": [
       "Text(0.5, 1.0, 'Training and validation loss')"
      ]
     },
     "execution_count": 55,
     "metadata": {},
     "output_type": "execute_result"
    },
    {
     "data": {
      "image/png": "[encoded data removed]",
      "text/plain": [
       "<Figure size 432x288 with 1 Axes>"
      ]
     },
     "metadata": {
      "needs_background": "light"
     },
     "output_type": "display_data"
    },
    {
     "data": {
      "image/png": "[encoded data removed]",
      "text/plain": [
       "<Figure size 432x288 with 1 Axes>"
      ]
     },
     "metadata": {
      "needs_background": "light"
     },
     "output_type": "display_data"
    }
   ],
   "source": [
    "# PLOT LOSS AND ACCURACY\n",
    "%matplotlib inline\n",
    "\n",
    "import matplotlib.image  as mpimg\n",
    "import matplotlib.pyplot as plt\n",
    "\n",
    "#-----------------------------------------------------------\n",
    "# Retrieve a list of list results on training and test data\n",
    "# sets for each training epoch\n",
    "#-----------------------------------------------------------\n",
    "acc=history.history['acc']\n",
    "val_acc=history.history['val_acc']\n",
    "loss=history.history['loss']\n",
    "val_loss=history.history['val_loss']\n",
    "\n",
    "epochs=range(len(acc)) # Get number of epochs\n",
    "\n",
    "#------------------------------------------------\n",
    "# Plot training and validation accuracy per epoch\n",
    "#------------------------------------------------\n",
    "plt.plot(epochs, acc, 'r', \"Training Accuracy\")\n",
    "plt.plot(epochs, val_acc, 'b', \"Validation Accuracy\")\n",
    "plt.title('Training and validation accuracy')\n",
    "plt.figure()\n",
    "\n",
    "#------------------------------------------------\n",
    "# Plot training and validation loss per epoch\n",
    "#------------------------------------------------\n",
    "plt.plot(epochs, loss, 'r', \"Training Loss\")\n",
    "plt.plot(epochs, val_loss, 'b', \"Validation Loss\")\n",
    "\n",
    "\n",
    "plt.title('Training and validation loss')\n",
    "\n",
    "# Desired output. Charts with training and validation metrics. No crash :)"
   ]
  },
  {
   "cell_type": "code",
   "execution_count": null,
   "metadata": {},
   "outputs": [],
   "source": [
    "# Here's a codeblock just for fun. You should be able to upload an image here \n",
    "# and have it classified without crashing\n",
    "\n",
    "import numpy as np\n",
    "from google.colab import files\n",
    "from keras.preprocessing import image\n",
    "\n",
    "uploaded = files.upload()\n",
    "\n",
    "for fn in uploaded.keys():\n",
    "    # predicting images\n",
    "    path = '/content/' + fn\n",
    "    img = image.load_img(path, target_size=(# YOUR CODE HERE))\n",
    "    x = image.img_to_array(img)\n",
    "    x = np.expand_dims(x, axis=0)\n",
    "\n",
    "    images = np.vstack([x])\n",
    "    classes = model.predict(images, batch_size=10)\n",
    "    print(classes[0])\n",
    "    if classes[0]>0.5:\n",
    "        print(fn + \" is a dog\")\n",
    "    else:\n",
    "        print(fn + \" is a cat\")"
   ]
  }
 ],
 "metadata": {
  "kernelspec": {
   "display_name": "Python 3",
   "language": "python",
   "name": "python3"
  },
  "language_info": {
   "codemirror_mode": {
    "name": "ipython",
    "version": 3
   },
   "file_extension": ".py",
   "mimetype": "text/x-python",
   "name": "python",
   "nbconvert_exporter": "python",
   "pygments_lexer": "ipython3",
   "version": "3.5.4"
  }
 },
 "nbformat": 4,
 "nbformat_minor": 4
}
