{
 "cells": [
  {
   "cell_type": "code",
   "execution_count": 2,
   "metadata": {},
   "outputs": [],
   "source": [
    "import csv\n",
    "import tensorflow as tf\n",
    "import numpy as np\n",
    "from tensorflow.keras.preprocessing.text import Tokenizer\n",
    "from tensorflow.keras.preprocessing.sequence import pad_sequences\n",
    "import wget"
   ]
  },
  {
   "cell_type": "code",
   "execution_count": 4,
   "metadata": {},
   "outputs": [],
   "source": [
    "bbc_text=wget.download('https://storage.googleapis.com/laurencemoroney-blog.appspot.com/bbc-text.csv',bar=None)"
   ]
  },
  {
   "cell_type": "code",
   "execution_count": 10,
   "metadata": {},
   "outputs": [],
   "source": [
    "vocab_size = 1000\n",
    "embedding_dim = 16\n",
    "max_length = 120\n",
    "trunc_type='post'\n",
    "padding_type='post'\n",
    "oov_tok = \"<OOV>\"\n",
    "training_portion = .8"
   ]
  },
  {
   "cell_type": "code",
   "execution_count": 6,
   "metadata": {},
   "outputs": [
    {
     "name": "stdout",
     "output_type": "stream",
     "text": [
      "153\n"
     ]
    }
   ],
   "source": [
    "sentences = []\n",
    "labels = []\n",
    "stopwords = [ \"a\", \"about\", \"above\", \"after\", \"again\", \"against\", \"all\", \"am\", \"an\", \"and\", \"any\", \"are\", \"as\", \"at\", \"be\", \"because\", \"been\", \"before\", \"being\", \"below\", \"between\", \"both\", \"but\", \"by\", \"could\", \"did\", \"do\", \"does\", \"doing\", \"down\", \"during\", \"each\", \"few\", \"for\", \"from\", \"further\", \"had\", \"has\", \"have\", \"having\", \"he\", \"he'd\", \"he'll\", \"he's\", \"her\", \"here\", \"here's\", \"hers\", \"herself\", \"him\", \"himself\", \"his\", \"how\", \"how's\", \"i\", \"i'd\", \"i'll\", \"i'm\", \"i've\", \"if\", \"in\", \"into\", \"is\", \"it\", \"it's\", \"its\", \"itself\", \"let's\", \"me\", \"more\", \"most\", \"my\", \"myself\", \"nor\", \"of\", \"on\", \"once\", \"only\", \"or\", \"other\", \"ought\", \"our\", \"ours\", \"ourselves\", \"out\", \"over\", \"own\", \"same\", \"she\", \"she'd\", \"she'll\", \"she's\", \"should\", \"so\", \"some\", \"such\", \"than\", \"that\", \"that's\", \"the\", \"their\", \"theirs\", \"them\", \"themselves\", \"then\", \"there\", \"there's\", \"these\", \"they\", \"they'd\", \"they'll\", \"they're\", \"they've\", \"this\", \"those\", \"through\", \"to\", \"too\", \"under\", \"until\", \"up\", \"very\", \"was\", \"we\", \"we'd\", \"we'll\", \"we're\", \"we've\", \"were\", \"what\", \"what's\", \"when\", \"when's\", \"where\", \"where's\", \"which\", \"while\", \"who\", \"who's\", \"whom\", \"why\", \"why's\", \"with\", \"would\", \"you\", \"you'd\", \"you'll\", \"you're\", \"you've\", \"your\", \"yours\", \"yourself\", \"yourselves\" ]\n",
    "print(len(stopwords))"
   ]
  },
  {
   "cell_type": "code",
   "execution_count": 8,
   "metadata": {},
   "outputs": [
    {
     "name": "stdout",
     "output_type": "stream",
     "text": [
      "2225\n",
      "2225\n"
     ]
    }
   ],
   "source": [
    "with open(bbc_text,'r') as csvfile:\n",
    "    reader=csv.reader(csvfile,delimiter=',')\n",
    "    next(reader)\n",
    "    for row in reader:\n",
    "        labels.append(row[0])\n",
    "        sentence=row[1]\n",
    "        for word in stopwords:\n",
    "            token=\" \"+word+\" \"\n",
    "            sentence=sentence.replace(token,\" \")\n",
    "            sentence=sentence.replace(\"  \",\" \")\n",
    "        sentences.append(sentence)\n",
    "print(len(labels))\n",
    "print(len(sentences))"
   ]
  },
  {
   "cell_type": "code",
   "execution_count": 13,
   "metadata": {},
   "outputs": [
    {
     "name": "stdout",
     "output_type": "stream",
     "text": [
      "1780\n",
      "1780\n",
      "1780\n",
      "445\n",
      "445\n"
     ]
    }
   ],
   "source": [
    "train_size = int(len(sentences) * training_portion)\n",
    "\n",
    "train_sentences=sentences[:train_size]\n",
    "train_labels=labels[:train_size]\n",
    "\n",
    "validation_sentences=sentences[train_size:]\n",
    "validation_labels=labels[train_size:]\n",
    "\n",
    "print(train_size)\n",
    "print(len(train_sentences))\n",
    "print(len(train_labels))\n",
    "print(len(validation_sentences))\n",
    "print(len(validation_labels))"
   ]
  },
  {
   "cell_type": "code",
   "execution_count": 27,
   "metadata": {},
   "outputs": [
    {
     "name": "stdout",
     "output_type": "stream",
     "text": [
      "449\n",
      "120\n",
      "200\n",
      "120\n",
      "192\n",
      "120\n"
     ]
    }
   ],
   "source": [
    "tokenizer=Tokenizer(num_words=vocab_size,oov_token=oov_tok)\n",
    "tokenizer.fit_on_texts(train_sentences)\n",
    "word_index=tokenizer.word_index\n",
    "\n",
    "train_sequences=tokenizer.texts_to_sequences(train_sentences)\n",
    "train_padded=pad_sequences(train_sequences,padding=padding_type,maxlen=max_length)\n",
    "\n",
    "print(len(train_sequences[0]))\n",
    "print(len(train_padded[0]))\n",
    "\n",
    "print(len(train_sequences[1]))\n",
    "print(len(train_padded[1]))\n",
    "\n",
    "print(len(train_sequences[10]))\n",
    "print(len(train_padded[10]))\n"
   ]
  },
  {
   "cell_type": "code",
   "execution_count": 28,
   "metadata": {},
   "outputs": [
    {
     "name": "stdout",
     "output_type": "stream",
     "text": [
      "445\n",
      "(445, 120)\n"
     ]
    }
   ],
   "source": [
    "validation_sequences=tokenizer.texts_to_sequences(validation_sentences)\n",
    "validation_padded=pad_sequences(validation_sequences,padding=padding_type,maxlen=max_length)\n",
    "\n",
    "print(len(validation_sequences))\n",
    "print(validation_padded.shape)"
   ]
  },
  {
   "cell_type": "code",
   "execution_count": 29,
   "metadata": {},
   "outputs": [
    {
     "name": "stdout",
     "output_type": "stream",
     "text": [
      "[4]\n",
      "[2]\n",
      "[1]\n",
      "(1780, 1)\n",
      "[5]\n",
      "[4]\n",
      "[3]\n",
      "(445, 1)\n"
     ]
    }
   ],
   "source": [
    "label_tokenizer=Tokenizer()\n",
    "label_tokenizer.fit_on_texts(labels)\n",
    "\n",
    "training_label_seq=np.array(label_tokenizer.texts_to_sequences(train_labels))\n",
    "validation_label_seq=np.array(label_tokenizer.texts_to_sequences(validation_labels))\n",
    "\n",
    "print(training_label_seq[0])\n",
    "print(training_label_seq[1])\n",
    "print(training_label_seq[2])\n",
    "print(training_label_seq.shape)\n",
    "\n",
    "print(validation_label_seq[0])\n",
    "print(validation_label_seq[1])\n",
    "print(validation_label_seq[2])\n",
    "print(validation_label_seq.shape)"
   ]
  },
  {
   "cell_type": "code",
   "execution_count": 30,
   "metadata": {},
   "outputs": [
    {
     "name": "stdout",
     "output_type": "stream",
     "text": [
      "_________________________________________________________________\n",
      "Layer (type)                 Output Shape              Param #   \n",
      "=================================================================\n",
      "embedding_1 (Embedding)      (None, 120, 16)           16000     \n",
      "_________________________________________________________________\n",
      "global_average_pooling1d_1 ( (None, 16)                0         \n",
      "_________________________________________________________________\n",
      "dense_2 (Dense)              (None, 24)                408       \n",
      "_________________________________________________________________\n",
      "dense_3 (Dense)              (None, 6)                 150       \n",
      "=================================================================\n",
      "Total params: 16,558\n",
      "Trainable params: 16,558\n",
      "Non-trainable params: 0\n",
      "_________________________________________________________________\n"
     ]
    }
   ],
   "source": [
    "model=tf.keras.Sequential([\n",
    "    tf.keras.layers.Embedding(vocab_size,embedding_dim,input_length=max_length),\n",
    "    tf.keras.layers.GlobalAveragePooling1D(),\n",
    "    tf.keras.layers.Dense(24,activation='relu'),\n",
    "    tf.keras.layers.Dense(6,activation='softmax')\n",
    "])\n",
    "\n",
    "model.compile(loss='sparse_categorical_crossentropy',optimizer='adam',metrics=['accuracy'])\n",
    "model.summary()"
   ]
  },
  {
   "cell_type": "code",
   "execution_count": 31,
   "metadata": {},
   "outputs": [
    {
     "name": "stdout",
     "output_type": "stream",
     "text": [
      "Train on 1780 samples, validate on 445 samples\n",
      "Epoch 1/30\n",
      " - 1s - loss: 1.7590 - acc: 0.2303 - val_loss: 1.7146 - val_acc: 0.2270\n",
      "Epoch 2/30\n",
      " - 0s - loss: 1.6565 - acc: 0.2309 - val_loss: 1.5971 - val_acc: 0.2517\n",
      "Epoch 3/30\n",
      " - 0s - loss: 1.5167 - acc: 0.3713 - val_loss: 1.4467 - val_acc: 0.4539\n",
      "Epoch 4/30\n",
      " - 0s - loss: 1.3399 - acc: 0.4820 - val_loss: 1.2638 - val_acc: 0.6135\n",
      "Epoch 5/30\n",
      " - 0s - loss: 1.1463 - acc: 0.6893 - val_loss: 1.0897 - val_acc: 0.7326\n",
      "Epoch 6/30\n",
      " - 0s - loss: 0.9691 - acc: 0.8191 - val_loss: 0.9262 - val_acc: 0.8427\n",
      "Epoch 7/30\n",
      " - 0s - loss: 0.8048 - acc: 0.8713 - val_loss: 0.7841 - val_acc: 0.8809\n",
      "Epoch 8/30\n",
      " - 0s - loss: 0.6590 - acc: 0.9169 - val_loss: 0.6564 - val_acc: 0.8989\n",
      "Epoch 9/30\n",
      " - 0s - loss: 0.5378 - acc: 0.9337 - val_loss: 0.5574 - val_acc: 0.9079\n",
      "Epoch 10/30\n",
      " - 0s - loss: 0.4393 - acc: 0.9438 - val_loss: 0.4901 - val_acc: 0.9034\n",
      "Epoch 11/30\n",
      " - 0s - loss: 0.3660 - acc: 0.9489 - val_loss: 0.4160 - val_acc: 0.9191\n",
      "Epoch 12/30\n",
      " - 0s - loss: 0.3056 - acc: 0.9590 - val_loss: 0.3659 - val_acc: 0.9258\n",
      "Epoch 13/30\n",
      " - 0s - loss: 0.2584 - acc: 0.9663 - val_loss: 0.3312 - val_acc: 0.9303\n",
      "Epoch 14/30\n",
      " - 0s - loss: 0.2217 - acc: 0.9691 - val_loss: 0.3005 - val_acc: 0.9326\n",
      "Epoch 15/30\n",
      " - 0s - loss: 0.1910 - acc: 0.9742 - val_loss: 0.2778 - val_acc: 0.9371\n",
      "Epoch 16/30\n",
      " - 0s - loss: 0.1663 - acc: 0.9770 - val_loss: 0.2577 - val_acc: 0.9348\n",
      "Epoch 17/30\n",
      " - 0s - loss: 0.1453 - acc: 0.9798 - val_loss: 0.2470 - val_acc: 0.9348\n",
      "Epoch 18/30\n",
      " - 0s - loss: 0.1288 - acc: 0.9831 - val_loss: 0.2322 - val_acc: 0.9348\n",
      "Epoch 19/30\n",
      " - 0s - loss: 0.1143 - acc: 0.9837 - val_loss: 0.2233 - val_acc: 0.9371\n",
      "Epoch 20/30\n",
      " - 0s - loss: 0.1019 - acc: 0.9843 - val_loss: 0.2112 - val_acc: 0.9416\n",
      "Epoch 21/30\n",
      " - 0s - loss: 0.0908 - acc: 0.9899 - val_loss: 0.2075 - val_acc: 0.9416\n",
      "Epoch 22/30\n",
      " - 0s - loss: 0.0821 - acc: 0.9910 - val_loss: 0.2008 - val_acc: 0.9438\n",
      "Epoch 23/30\n",
      " - 0s - loss: 0.0737 - acc: 0.9938 - val_loss: 0.1971 - val_acc: 0.9483\n",
      "Epoch 24/30\n",
      " - 0s - loss: 0.0665 - acc: 0.9944 - val_loss: 0.1932 - val_acc: 0.9461\n",
      "Epoch 25/30\n",
      " - 0s - loss: 0.0603 - acc: 0.9955 - val_loss: 0.1891 - val_acc: 0.9483\n",
      "Epoch 26/30\n",
      " - 0s - loss: 0.0543 - acc: 0.9961 - val_loss: 0.1864 - val_acc: 0.9506\n",
      "Epoch 27/30\n",
      " - 0s - loss: 0.0496 - acc: 0.9972 - val_loss: 0.1813 - val_acc: 0.9551\n",
      "Epoch 28/30\n",
      " - 0s - loss: 0.0448 - acc: 0.9972 - val_loss: 0.1824 - val_acc: 0.9506\n",
      "Epoch 29/30\n",
      " - 0s - loss: 0.0409 - acc: 0.9983 - val_loss: 0.1808 - val_acc: 0.9506\n",
      "Epoch 30/30\n",
      " - 0s - loss: 0.0373 - acc: 0.9983 - val_loss: 0.1779 - val_acc: 0.9551\n"
     ]
    }
   ],
   "source": [
    "history=model.fit(train_padded,\n",
    "                 training_label_seq,\n",
    "                 epochs=30,\n",
    "                 validation_data=(validation_padded,validation_label_seq),\n",
    "                 verbose=2)"
   ]
  },
  {
   "cell_type": "code",
   "execution_count": 33,
   "metadata": {},
   "outputs": [
    {
     "data": {
      "image/png": "[encoded data removed]",
      "text/plain": [
       "<Figure size 432x288 with 1 Axes>"
      ]
     },
     "metadata": {
      "needs_background": "light"
     },
     "output_type": "display_data"
    },
    {
     "data": {
      "image/png": "[encoded data removed]",
      "text/plain": [
       "<Figure size 432x288 with 1 Axes>"
      ]
     },
     "metadata": {
      "needs_background": "light"
     },
     "output_type": "display_data"
    }
   ],
   "source": [
    "import matplotlib.pyplot as plt\n",
    "\n",
    "\n",
    "def plot_graphs(history, string):\n",
    "  plt.plot(history.history[string])\n",
    "  plt.plot(history.history['val_'+string])\n",
    "  plt.xlabel(\"Epochs\")\n",
    "  plt.ylabel(string)\n",
    "  plt.legend([string, 'val_'+string])\n",
    "  plt.show()\n",
    "  \n",
    "plot_graphs(history, \"acc\")\n",
    "plot_graphs(history, \"loss\")"
   ]
  },
  {
   "cell_type": "code",
   "execution_count": 34,
   "metadata": {},
   "outputs": [],
   "source": [
    "reverse_word_index = dict([(value, key) for (key, value) in word_index.items()])\n",
    "\n",
    "def decode_sentence(text):\n",
    "    return ' '.join([reverse_word_index.get(i, '?') for i in text])\n"
   ]
  },
  {
   "cell_type": "code",
   "execution_count": 35,
   "metadata": {},
   "outputs": [
    {
     "name": "stdout",
     "output_type": "stream",
     "text": [
      "(1000, 16)\n"
     ]
    }
   ],
   "source": [
    "e = model.layers[0]\n",
    "weights = e.get_weights()[0]\n",
    "print(weights.shape)"
   ]
  },
  {
   "cell_type": "code",
   "execution_count": 36,
   "metadata": {},
   "outputs": [],
   "source": [
    "import io\n",
    "\n",
    "out_v = io.open('vecs.tsv', 'w', encoding='utf-8')\n",
    "out_m = io.open('meta.tsv', 'w', encoding='utf-8')\n",
    "for word_num in range(1, vocab_size):\n",
    "  word = reverse_word_index[word_num]\n",
    "  embeddings = weights[word_num]\n",
    "  out_m.write(word + \"\\n\")\n",
    "  out_v.write('\\t'.join([str(x) for x in embeddings]) + \"\\n\")\n",
    "out_v.close()\n",
    "out_m.close()"
   ]
  },
  {
   "cell_type": "code",
   "execution_count": 37,
   "metadata": {},
   "outputs": [],
   "source": [
    "try:\n",
    "  from google.colab import files\n",
    "except ImportError:\n",
    "  pass\n",
    "else:\n",
    "  files.download('vecs.tsv')\n",
    "  files.download('meta.tsv')"
   ]
  },
  {
   "cell_type": "code",
   "execution_count": null,
   "metadata": {},
   "outputs": [],
   "source": []
  }
 ],
 "metadata": {
  "kernelspec": {
   "display_name": "Python 3",
   "language": "python",
   "name": "python3"
  },
  "language_info": {
   "codemirror_mode": {
    "name": "ipython",
    "version": 3
   },
   "file_extension": ".py",
   "mimetype": "text/x-python",
   "name": "python",
   "nbconvert_exporter": "python",
   "pygments_lexer": "ipython3",
   "version": "3.5.4"
  }
 },
 "nbformat": 4,
 "nbformat_minor": 4
}
