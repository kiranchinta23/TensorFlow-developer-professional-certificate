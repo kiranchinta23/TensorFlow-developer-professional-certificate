{
 "cells": [
  {
   "cell_type": "code",
   "execution_count": 1,
   "metadata": {},
   "outputs": [],
   "source": [
    "import json\n",
    "import tensorflow as tf\n",
    "import csv\n",
    "import random\n",
    "import numpy as np\n",
    "\n",
    "from tensorflow.keras.preprocessing.text import Tokenizer\n",
    "from tensorflow.keras.preprocessing.sequence import pad_sequences\n",
    "from tensorflow.keras.utils import to_categorical\n",
    "from tensorflow.keras import regularizers\n"
   ]
  },
  {
   "cell_type": "code",
   "execution_count": 2,
   "metadata": {},
   "outputs": [],
   "source": [
    "import wget\n",
    "training=wget.download('https://storage.googleapis.com/laurencemoroney-blog.appspot.com/training_cleaned.csv',bar=None)"
   ]
  },
  {
   "cell_type": "code",
   "execution_count": 6,
   "metadata": {},
   "outputs": [],
   "source": [
    "corpus=[]\n",
    "num_sentences=0\n",
    "\n",
    "with open(training,encoding='utf8') as csvfile:\n",
    "    reader=csv.reader(csvfile,delimiter=',')\n",
    "    \n",
    "    for row in reader:\n",
    "        list_item=[]\n",
    "        list_item.append(row[5])\n",
    "        this_label=row[0]\n",
    "        if this_label=='0':\n",
    "            list_item.append(0)\n",
    "        else:\n",
    "            list_item.append(1)\n",
    "        num_sentences=num_sentences+1\n",
    "        corpus.append(list_item)"
   ]
  },
  {
   "cell_type": "code",
   "execution_count": 9,
   "metadata": {},
   "outputs": [
    {
     "name": "stdout",
     "output_type": "stream",
     "text": [
      "1600000\n",
      "1600000\n",
      "[\"is upset that he can't update his Facebook by texting it... and might cry as a result  School today also. Blah!\", 0]\n",
      "[\"@switchfoot http://twitpic.com/2y1zl - Awww, that's a bummer.  You shoulda got David Carr of Third Day to do it. ;D\", 0]\n"
     ]
    }
   ],
   "source": [
    "print(num_sentences)\n",
    "print(len(corpus))\n",
    "print(corpus[1])\n",
    "print(corpus[0])"
   ]
  },
  {
   "cell_type": "code",
   "execution_count": 8,
   "metadata": {},
   "outputs": [],
   "source": [
    "embedding_dim = 100\n",
    "max_length = 16\n",
    "trunc_type='post'\n",
    "padding_type='post'\n",
    "oov_tok = \"<OOV>\"\n",
    "training_size=160000\n",
    "test_portion=.1"
   ]
  },
  {
   "cell_type": "code",
   "execution_count": 10,
   "metadata": {},
   "outputs": [],
   "source": [
    "sentences=[]\n",
    "labels=[]\n",
    "random.shuffle(corpus)\n",
    "for x in range(training_size):\n",
    "    sentences.append(corpus[x][0])\n",
    "    labels.append(corpus[x][1])\n",
    "\n",
    "\n",
    "tokenizer = Tokenizer()\n",
    "tokenizer.fit_on_texts(sentences)\n",
    "\n",
    "word_index = tokenizer.word_index\n",
    "vocab_size=len(word_index)\n",
    "\n",
    "sequences = tokenizer.texts_to_sequences(sentences)\n",
    "padded = pad_sequences(sequences, maxlen=max_length, padding=padding_type, truncating=trunc_type)\n",
    "\n",
    "split = int(test_portion * training_size)\n",
    "\n",
    "test_sequences = padded[0:split]\n",
    "training_sequences = padded[split:training_size]\n",
    "test_labels = labels[0:split]\n",
    "training_labels = labels[split:training_size]"
   ]
  },
  {
   "cell_type": "code",
   "execution_count": 11,
   "metadata": {},
   "outputs": [
    {
     "name": "stdout",
     "output_type": "stream",
     "text": [
      "138854\n",
      "1\n"
     ]
    }
   ],
   "source": [
    "print(vocab_size)\n",
    "print(word_index['i'])"
   ]
  },
  {
   "cell_type": "code",
   "execution_count": 13,
   "metadata": {},
   "outputs": [],
   "source": [
    "glove=wget.download('https://storage.googleapis.com/laurencemoroney-blog.appspot.com/glove.6B.100d.txt',bar=None)"
   ]
  },
  {
   "cell_type": "code",
   "execution_count": 17,
   "metadata": {},
   "outputs": [],
   "source": [
    "embeddings_index={}\n",
    "with open(glove,encoding='utf8') as f:\n",
    "    for line in f:\n",
    "        values= line.split()\n",
    "        word=values[0]\n",
    "        coefs=np.asarray(values[1:],dtype='float32')\n",
    "        embeddings_index[word]=coefs\n",
    "\n",
    "embeddings_matrix = np.zeros((vocab_size+1, embedding_dim));\n",
    "for word, i in word_index.items():\n",
    "    embedding_vector = embeddings_index.get(word);\n",
    "    if embedding_vector is not None:\n",
    "        embeddings_matrix[i] = embedding_vector;"
   ]
  },
  {
   "cell_type": "code",
   "execution_count": 18,
   "metadata": {},
   "outputs": [
    {
     "name": "stdout",
     "output_type": "stream",
     "text": [
      "138855\n"
     ]
    }
   ],
   "source": [
    "print(len(embeddings_matrix))"
   ]
  },
  {
   "cell_type": "code",
   "execution_count": 19,
   "metadata": {},
   "outputs": [
    {
     "name": "stdout",
     "output_type": "stream",
     "text": [
      "WARNING:tensorflow:From c:\\users\\kiran\\appdata\\local\\programs\\python\\python35\\lib\\site-packages\\tensorflow\\python\\ops\\resource_variable_ops.py:435: colocate_with (from tensorflow.python.framework.ops) is deprecated and will be removed in a future version.\n",
      "Instructions for updating:\n",
      "Colocations handled automatically by placer.\n",
      "WARNING:tensorflow:From c:\\users\\kiran\\appdata\\local\\programs\\python\\python35\\lib\\site-packages\\tensorflow\\python\\keras\\layers\\core.py:143: calling dropout (from tensorflow.python.ops.nn_ops) with keep_prob is deprecated and will be removed in a future version.\n",
      "Instructions for updating:\n",
      "Please use `rate` instead of `keep_prob`. Rate should be set to `rate = 1 - keep_prob`.\n",
      "_________________________________________________________________\n",
      "Layer (type)                 Output Shape              Param #   \n",
      "=================================================================\n",
      "embedding (Embedding)        (None, 16, 100)           13885500  \n",
      "_________________________________________________________________\n",
      "dropout (Dropout)            (None, 16, 100)           0         \n",
      "_________________________________________________________________\n",
      "conv1d (Conv1D)              (None, 12, 64)            32064     \n",
      "_________________________________________________________________\n",
      "max_pooling1d (MaxPooling1D) (None, 3, 64)             0         \n",
      "_________________________________________________________________\n",
      "lstm (LSTM)                  (None, 64)                33024     \n",
      "_________________________________________________________________\n",
      "dense (Dense)                (None, 1)                 65        \n",
      "=================================================================\n",
      "Total params: 13,950,653\n",
      "Trainable params: 65,153\n",
      "Non-trainable params: 13,885,500\n",
      "_________________________________________________________________\n"
     ]
    }
   ],
   "source": [
    "model = tf.keras.Sequential([\n",
    "    tf.keras.layers.Embedding(vocab_size+1, embedding_dim, input_length=max_length, weights=[embeddings_matrix], trainable=False),\n",
    "    tf.keras.layers.Dropout(0.2),\n",
    "    tf.keras.layers.Conv1D(64, 5, activation='relu'),\n",
    "    tf.keras.layers.MaxPooling1D(pool_size=4),\n",
    "    tf.keras.layers.LSTM(64),\n",
    "    tf.keras.layers.Dense(1, activation='sigmoid')\n",
    "])\n",
    "model.compile(loss='binary_crossentropy',optimizer='adam',metrics=['accuracy'])\n",
    "model.summary()"
   ]
  },
  {
   "cell_type": "code",
   "execution_count": 22,
   "metadata": {},
   "outputs": [
    {
     "name": "stdout",
     "output_type": "stream",
     "text": [
      "Train on 144000 samples, validate on 16000 samples\n",
      "WARNING:tensorflow:From c:\\users\\kiran\\appdata\\local\\programs\\python\\python35\\lib\\site-packages\\tensorflow\\python\\ops\\math_ops.py:3066: to_int32 (from tensorflow.python.ops.math_ops) is deprecated and will be removed in a future version.\n",
      "Instructions for updating:\n",
      "Use tf.cast instead.\n",
      "Epoch 1/50\n",
      " - 105s - loss: 0.5671 - acc: 0.6986 - val_loss: 0.5214 - val_acc: 0.7389\n",
      "Epoch 2/50\n",
      " - 95s - loss: 0.5256 - acc: 0.7336 - val_loss: 0.5067 - val_acc: 0.7471\n",
      "Epoch 3/50\n",
      " - 85s - loss: 0.5101 - acc: 0.7458 - val_loss: 0.5084 - val_acc: 0.7474\n",
      "Epoch 4/50\n",
      " - 96s - loss: 0.4978 - acc: 0.7549 - val_loss: 0.5011 - val_acc: 0.7531\n",
      "Epoch 5/50\n",
      " - 95s - loss: 0.4901 - acc: 0.7584 - val_loss: 0.4972 - val_acc: 0.7551\n",
      "Epoch 6/50\n",
      " - 97s - loss: 0.4828 - acc: 0.7646 - val_loss: 0.5062 - val_acc: 0.7484\n",
      "Epoch 7/50\n",
      " - 97s - loss: 0.4765 - acc: 0.7688 - val_loss: 0.4986 - val_acc: 0.7526\n",
      "Epoch 8/50\n",
      " - 95s - loss: 0.4707 - acc: 0.7715 - val_loss: 0.4963 - val_acc: 0.7537\n",
      "Epoch 9/50\n",
      " - 95s - loss: 0.4680 - acc: 0.7738 - val_loss: 0.4973 - val_acc: 0.7556\n",
      "Epoch 10/50\n",
      " - 95s - loss: 0.4636 - acc: 0.7755 - val_loss: 0.5051 - val_acc: 0.7536\n",
      "Epoch 11/50\n",
      " - 96s - loss: 0.4611 - acc: 0.7782 - val_loss: 0.4953 - val_acc: 0.7573\n",
      "Epoch 12/50\n",
      " - 95s - loss: 0.4568 - acc: 0.7796 - val_loss: 0.5001 - val_acc: 0.7537\n",
      "Epoch 13/50\n",
      " - 95s - loss: 0.4551 - acc: 0.7805 - val_loss: 0.4991 - val_acc: 0.7523\n",
      "Epoch 14/50\n",
      " - 95s - loss: 0.4513 - acc: 0.7828 - val_loss: 0.5096 - val_acc: 0.7544\n",
      "Epoch 15/50\n",
      " - 95s - loss: 0.4517 - acc: 0.7827 - val_loss: 0.5009 - val_acc: 0.7558\n",
      "Epoch 16/50\n",
      " - 95s - loss: 0.4486 - acc: 0.7849 - val_loss: 0.5051 - val_acc: 0.7517\n",
      "Epoch 17/50\n",
      " - 95s - loss: 0.4473 - acc: 0.7854 - val_loss: 0.5060 - val_acc: 0.7491\n",
      "Epoch 18/50\n",
      " - 97s - loss: 0.4446 - acc: 0.7880 - val_loss: 0.5169 - val_acc: 0.7473\n",
      "Epoch 19/50\n",
      " - 95s - loss: 0.4434 - acc: 0.7882 - val_loss: 0.5098 - val_acc: 0.7531\n",
      "Epoch 20/50\n",
      " - 95s - loss: 0.4432 - acc: 0.7873 - val_loss: 0.5053 - val_acc: 0.7529\n",
      "Epoch 21/50\n",
      " - 95s - loss: 0.4400 - acc: 0.7908 - val_loss: 0.5121 - val_acc: 0.7511\n",
      "Epoch 22/50\n",
      " - 96s - loss: 0.4397 - acc: 0.7891 - val_loss: 0.5075 - val_acc: 0.7512\n",
      "Epoch 23/50\n",
      " - 95s - loss: 0.4390 - acc: 0.7900 - val_loss: 0.5077 - val_acc: 0.7514\n",
      "Epoch 24/50\n",
      " - 95s - loss: 0.4391 - acc: 0.7910 - val_loss: 0.5120 - val_acc: 0.7529\n",
      "Epoch 25/50\n",
      " - 95s - loss: 0.4369 - acc: 0.7904 - val_loss: 0.5093 - val_acc: 0.7532\n",
      "Epoch 26/50\n",
      " - 95s - loss: 0.4372 - acc: 0.7924 - val_loss: 0.5063 - val_acc: 0.7497\n",
      "Epoch 27/50\n",
      " - 95s - loss: 0.4345 - acc: 0.7929 - val_loss: 0.5148 - val_acc: 0.7475\n",
      "Epoch 28/50\n",
      " - 95s - loss: 0.4348 - acc: 0.7928 - val_loss: 0.5158 - val_acc: 0.7519\n",
      "Epoch 29/50\n",
      " - 95s - loss: 0.4341 - acc: 0.7933 - val_loss: 0.5116 - val_acc: 0.7516\n",
      "Epoch 30/50\n",
      " - 95s - loss: 0.4347 - acc: 0.7935 - val_loss: 0.5118 - val_acc: 0.7514\n",
      "Epoch 31/50\n",
      " - 95s - loss: 0.4333 - acc: 0.7934 - val_loss: 0.5099 - val_acc: 0.7519\n",
      "Epoch 32/50\n",
      " - 98s - loss: 0.4319 - acc: 0.7948 - val_loss: 0.5143 - val_acc: 0.7479\n",
      "Epoch 33/50\n",
      " - 88s - loss: 0.4312 - acc: 0.7957 - val_loss: 0.5140 - val_acc: 0.7498\n",
      "Epoch 34/50\n",
      " - 99s - loss: 0.4319 - acc: 0.7946 - val_loss: 0.5129 - val_acc: 0.7514\n",
      "Epoch 35/50\n",
      " - 96s - loss: 0.4315 - acc: 0.7952 - val_loss: 0.5165 - val_acc: 0.7495\n",
      "Epoch 36/50\n",
      " - 96s - loss: 0.4302 - acc: 0.7952 - val_loss: 0.5176 - val_acc: 0.7492\n",
      "Epoch 37/50\n",
      " - 97s - loss: 0.4311 - acc: 0.7945 - val_loss: 0.5139 - val_acc: 0.7494\n",
      "Epoch 38/50\n",
      " - 100s - loss: 0.4303 - acc: 0.7962 - val_loss: 0.5195 - val_acc: 0.7486\n",
      "Epoch 39/50\n",
      " - 96s - loss: 0.4306 - acc: 0.7954 - val_loss: 0.5118 - val_acc: 0.7507\n",
      "Epoch 40/50\n",
      " - 98s - loss: 0.4315 - acc: 0.7950 - val_loss: 0.5176 - val_acc: 0.7496\n",
      "Epoch 41/50\n",
      " - 97s - loss: 0.4283 - acc: 0.7974 - val_loss: 0.5169 - val_acc: 0.7487\n",
      "Epoch 42/50\n",
      " - 96s - loss: 0.4299 - acc: 0.7955 - val_loss: 0.5151 - val_acc: 0.7516\n",
      "Epoch 43/50\n",
      " - 96s - loss: 0.4271 - acc: 0.7975 - val_loss: 0.5166 - val_acc: 0.7497\n",
      "Epoch 44/50\n",
      " - 96s - loss: 0.4284 - acc: 0.7980 - val_loss: 0.5193 - val_acc: 0.7474\n",
      "Epoch 45/50\n",
      " - 95s - loss: 0.4284 - acc: 0.7963 - val_loss: 0.5168 - val_acc: 0.7454\n",
      "Epoch 46/50\n",
      " - 90s - loss: 0.4264 - acc: 0.7978 - val_loss: 0.5194 - val_acc: 0.7465\n",
      "Epoch 47/50\n",
      " - 97s - loss: 0.4281 - acc: 0.7968 - val_loss: 0.5164 - val_acc: 0.7478\n",
      "Epoch 48/50\n",
      " - 95s - loss: 0.4284 - acc: 0.7969 - val_loss: 0.5160 - val_acc: 0.7473\n",
      "Epoch 49/50\n",
      " - 97s - loss: 0.4273 - acc: 0.7974 - val_loss: 0.5179 - val_acc: 0.7501\n",
      "Epoch 50/50\n",
      " - 97s - loss: 0.4268 - acc: 0.7973 - val_loss: 0.5171 - val_acc: 0.7467\n"
     ]
    }
   ],
   "source": [
    "history = model.fit(training_sequences, training_labels, epochs=50, validation_data=(test_sequences, test_labels), verbose=2)\n"
   ]
  },
  {
   "cell_type": "code",
   "execution_count": 24,
   "metadata": {},
   "outputs": [
    {
     "data": {
      "text/plain": [
       "<Figure size 432x288 with 0 Axes>"
      ]
     },
     "execution_count": 24,
     "metadata": {},
     "output_type": "execute_result"
    },
    {
     "data": {
      "image/png": "[encoded data removed]",
      "text/plain": [
       "<Figure size 432x288 with 1 Axes>"
      ]
     },
     "metadata": {
      "needs_background": "light"
     },
     "output_type": "display_data"
    },
    {
     "data": {
      "image/png": "[encoded data removed]",
      "text/plain": [
       "<Figure size 432x288 with 1 Axes>"
      ]
     },
     "metadata": {
      "needs_background": "light"
     },
     "output_type": "display_data"
    },
    {
     "data": {
      "text/plain": [
       "<Figure size 432x288 with 0 Axes>"
      ]
     },
     "metadata": {},
     "output_type": "display_data"
    }
   ],
   "source": [
    "import matplotlib.image  as mpimg\n",
    "import matplotlib.pyplot as plt\n",
    "\n",
    "#-----------------------------------------------------------\n",
    "# Retrieve a list of list results on training and test data\n",
    "# sets for each training epoch\n",
    "#-----------------------------------------------------------\n",
    "acc=history.history['acc']\n",
    "val_acc=history.history['val_acc']\n",
    "loss=history.history['loss']\n",
    "val_loss=history.history['val_loss']\n",
    "\n",
    "epochs=range(len(acc)) # Get number of epochs\n",
    "\n",
    "#------------------------------------------------\n",
    "# Plot training and validation accuracy per epoch\n",
    "#------------------------------------------------\n",
    "plt.plot(epochs, acc, 'r')\n",
    "plt.plot(epochs, val_acc, 'b')\n",
    "plt.title('Training and validation accuracy')\n",
    "plt.xlabel(\"Epochs\")\n",
    "plt.ylabel(\"Accuracy\")\n",
    "plt.legend([\"Accuracy\", \"Validation Accuracy\"])\n",
    "\n",
    "plt.figure()\n",
    "\n",
    "#------------------------------------------------\n",
    "# Plot training and validation loss per epoch\n",
    "#------------------------------------------------\n",
    "plt.plot(epochs, loss, 'r')\n",
    "plt.plot(epochs, val_loss, 'b')\n",
    "plt.title('Training and validation loss')\n",
    "plt.xlabel(\"Epochs\")\n",
    "plt.ylabel(\"Loss\")\n",
    "plt.legend([\"Loss\", \"Validation Loss\"])\n",
    "\n",
    "plt.figure()\n",
    "\n",
    "\n",
    "# Expected Output\n",
    "# A chart where the validation loss does not increase sharply!"
   ]
  },
  {
   "cell_type": "code",
   "execution_count": null,
   "metadata": {},
   "outputs": [],
   "source": []
  }
 ],
 "metadata": {
  "kernelspec": {
   "display_name": "Python 3",
   "language": "python",
   "name": "python3"
  },
  "language_info": {
   "codemirror_mode": {
    "name": "ipython",
    "version": 3
   },
   "file_extension": ".py",
   "mimetype": "text/x-python",
   "name": "python",
   "nbconvert_exporter": "python",
   "pygments_lexer": "ipython3",
   "version": "3.5.4"
  }
 },
 "nbformat": 4,
 "nbformat_minor": 4
}
