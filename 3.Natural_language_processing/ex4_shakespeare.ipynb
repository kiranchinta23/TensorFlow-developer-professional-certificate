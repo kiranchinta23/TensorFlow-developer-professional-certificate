{
 "cells": [
  {
   "cell_type": "code",
   "execution_count": 10,
   "metadata": {},
   "outputs": [],
   "source": [
    "from tensorflow.keras.preprocessing.sequence import pad_sequences\n",
    "from tensorflow.keras.layers import Embedding, LSTM, Dense, Dropout, Bidirectional\n",
    "from tensorflow.keras.preprocessing.text import Tokenizer\n",
    "from tensorflow.keras.models import Sequential\n",
    "from tensorflow.keras.optimizers import Adam\n",
    "from tensorflow.keras import regularizers\n",
    "import tensorflow.keras.utils as ku \n",
    "import numpy as np \n",
    "import tensorflow as tf"
   ]
  },
  {
   "cell_type": "code",
   "execution_count": 3,
   "metadata": {},
   "outputs": [],
   "source": [
    "import wget\n",
    "sonnets=wget.download('https://storage.googleapis.com/laurencemoroney-blog.appspot.com/sonnets.txt',bar=None)"
   ]
  },
  {
   "cell_type": "code",
   "execution_count": 4,
   "metadata": {},
   "outputs": [],
   "source": [
    "data=open(sonnets).read()\n",
    "corpus=data.lower().split('\\n')"
   ]
  },
  {
   "cell_type": "code",
   "execution_count": 5,
   "metadata": {},
   "outputs": [],
   "source": [
    "tokenizer=Tokenizer()\n",
    "tokenizer.fit_on_texts(corpus)\n",
    "total_words=len(tokenizer.word_index)+1"
   ]
  },
  {
   "cell_type": "code",
   "execution_count": 6,
   "metadata": {},
   "outputs": [],
   "source": [
    "# create input sequences using list of tokens\n",
    "input_sequences=[]\n",
    "for line in corpus:\n",
    "    token_list=tokenizer.texts_to_sequences([line])[0]\n",
    "    for i in range(1,len(token_list)):\n",
    "        n_gram_sequence=token_list[:i+1]\n",
    "        input_sequences.append(n_gram_sequence)"
   ]
  },
  {
   "cell_type": "code",
   "execution_count": 7,
   "metadata": {},
   "outputs": [],
   "source": [
    "# pad sequences \n",
    "max_sequence_len = max([len(x) for x in input_sequences])\n",
    "input_sequences = np.array(pad_sequences(input_sequences, maxlen=max_sequence_len, padding='pre'))"
   ]
  },
  {
   "cell_type": "code",
   "execution_count": 8,
   "metadata": {},
   "outputs": [],
   "source": [
    "# create predictors and label\n",
    "predictors, label = input_sequences[:,:-1],input_sequences[:,-1]\n",
    "\n",
    "label = ku.to_categorical(label, num_classes=total_words)"
   ]
  },
  {
   "cell_type": "code",
   "execution_count": 22,
   "metadata": {},
   "outputs": [
    {
     "name": "stdout",
     "output_type": "stream",
     "text": [
      "_________________________________________________________________\n",
      "Layer (type)                 Output Shape              Param #   \n",
      "=================================================================\n",
      "embedding_7 (Embedding)      (None, 10, 100)           321100    \n",
      "_________________________________________________________________\n",
      "bidirectional_8 (Bidirection (None, 10, 300)           301200    \n",
      "_________________________________________________________________\n",
      "dropout_7 (Dropout)          (None, 10, 300)           0         \n",
      "_________________________________________________________________\n",
      "lstm_14 (LSTM)               (None, 100)               160400    \n",
      "_________________________________________________________________\n",
      "dense_12 (Dense)             (None, 1605)              162105    \n",
      "_________________________________________________________________\n",
      "dense_13 (Dense)             (None, 3211)              5156866   \n",
      "=================================================================\n",
      "Total params: 6,101,671\n",
      "Trainable params: 6,101,671\n",
      "Non-trainable params: 0\n",
      "_________________________________________________________________\n"
     ]
    }
   ],
   "source": [
    "model=tf.keras.Sequential([\n",
    "    tf.keras.layers.Embedding(total_words,100,input_length=max_sequence_len-1),\n",
    "    tf.keras.layers.Bidirectional(tf.keras.layers.LSTM(150,return_sequences=True)),\n",
    "    tf.keras.layers.Dropout(0.2),\n",
    "    tf.keras.layers.LSTM(100),\n",
    "    tf.keras.layers.Dense(total_words/2,activation='relu',kernel_regularizer=regularizers.l2(0.01)),\n",
    "    tf.keras.layers.Dense(total_words,activation='softmax')\n",
    "])\n",
    "\n",
    "model.compile(loss='categorical_crossentropy',optimizer='adam',metrics=['accuracy'])\n",
    "\n",
    "model.summary()"
   ]
  },
  {
   "cell_type": "code",
   "execution_count": 23,
   "metadata": {},
   "outputs": [
    {
     "name": "stdout",
     "output_type": "stream",
     "text": [
      "Epoch 1/100\n",
      "15462/15462 [==============================] - 87s 6ms/sample - loss: 6.8914 - acc: 0.0211\n",
      "Epoch 2/100\n",
      "15462/15462 [==============================] - 79s 5ms/sample - loss: 6.4967 - acc: 0.0210\n",
      "Epoch 3/100\n",
      "15462/15462 [==============================] - 79s 5ms/sample - loss: 6.3948 - acc: 0.0249\n",
      "Epoch 4/100\n",
      "15462/15462 [==============================] - 79s 5ms/sample - loss: 6.2747 - acc: 0.0279\n",
      "Epoch 5/100\n",
      "15462/15462 [==============================] - 79s 5ms/sample - loss: 6.1816 - acc: 0.0364\n",
      "Epoch 6/100\n",
      "15462/15462 [==============================] - 79s 5ms/sample - loss: 6.1041 - acc: 0.0391\n",
      "Epoch 7/100\n",
      "15462/15462 [==============================] - 79s 5ms/sample - loss: 6.0247 - acc: 0.0407\n",
      "Epoch 8/100\n",
      "15462/15462 [==============================] - 80s 5ms/sample - loss: 5.9466 - acc: 0.0435\n",
      "Epoch 9/100\n",
      "15462/15462 [==============================] - 79s 5ms/sample - loss: 5.8644 - acc: 0.0493\n",
      "Epoch 10/100\n",
      "15462/15462 [==============================] - 79s 5ms/sample - loss: 5.7623 - acc: 0.0542\n",
      "Epoch 11/100\n",
      "15462/15462 [==============================] - 80s 5ms/sample - loss: 5.6571 - acc: 0.0613\n",
      "Epoch 12/100\n",
      "15462/15462 [==============================] - 79s 5ms/sample - loss: 5.5527 - acc: 0.0638\n",
      "Epoch 13/100\n",
      "15462/15462 [==============================] - 79s 5ms/sample - loss: 5.4469 - acc: 0.0720\n",
      "Epoch 14/100\n",
      "15462/15462 [==============================] - 79s 5ms/sample - loss: 5.3376 - acc: 0.0793\n",
      "Epoch 15/100\n",
      "15462/15462 [==============================] - 80s 5ms/sample - loss: 5.2372 - acc: 0.0865\n",
      "Epoch 16/100\n",
      "15462/15462 [==============================] - 80s 5ms/sample - loss: 5.1245 - acc: 0.0940\n",
      "Epoch 17/100\n",
      "15462/15462 [==============================] - 80s 5ms/sample - loss: 5.0180 - acc: 0.0993\n",
      "Epoch 18/100\n",
      "15462/15462 [==============================] - 82s 5ms/sample - loss: 4.9143 - acc: 0.1098\n",
      "Epoch 19/100\n",
      "15462/15462 [==============================] - 90s 6ms/sample - loss: 4.8009 - acc: 0.1201\n",
      "Epoch 20/100\n",
      "15462/15462 [==============================] - 80s 5ms/sample - loss: 4.6921 - acc: 0.1284\n",
      "Epoch 21/100\n",
      "15462/15462 [==============================] - 87s 6ms/sample - loss: 4.5845 - acc: 0.1376\n",
      "Epoch 22/100\n",
      "15462/15462 [==============================] - 81s 5ms/sample - loss: 4.4708 - acc: 0.1488\n",
      "Epoch 23/100\n",
      "15462/15462 [==============================] - 90s 6ms/sample - loss: 4.3593 - acc: 0.1629\n",
      "Epoch 24/100\n",
      "15462/15462 [==============================] - 93s 6ms/sample - loss: 4.2548 - acc: 0.1752\n",
      "Epoch 25/100\n",
      "15462/15462 [==============================] - 86s 6ms/sample - loss: 4.1374 - acc: 0.1910\n",
      "Epoch 26/100\n",
      "15462/15462 [==============================] - 90s 6ms/sample - loss: 4.0355 - acc: 0.2027\n",
      "Epoch 27/100\n",
      "15462/15462 [==============================] - 90s 6ms/sample - loss: 3.9230 - acc: 0.2182\n",
      "Epoch 28/100\n",
      "15462/15462 [==============================] - 88s 6ms/sample - loss: 3.8219 - acc: 0.2343\n",
      "Epoch 29/100\n",
      "15462/15462 [==============================] - 88s 6ms/sample - loss: 3.7217 - acc: 0.2557\n",
      "Epoch 30/100\n",
      "15462/15462 [==============================] - 83s 5ms/sample - loss: 3.6220 - acc: 0.2767\n",
      "Epoch 31/100\n",
      "15462/15462 [==============================] - 90s 6ms/sample - loss: 3.5227 - acc: 0.2956\n",
      "Epoch 32/100\n",
      "15462/15462 [==============================] - 93s 6ms/sample - loss: 3.4268 - acc: 0.3141\n",
      "Epoch 33/100\n",
      "15462/15462 [==============================] - 91s 6ms/sample - loss: 3.3322 - acc: 0.3361\n",
      "Epoch 34/100\n",
      "15462/15462 [==============================] - 92s 6ms/sample - loss: 3.2510 - acc: 0.3534\n",
      "Epoch 35/100\n",
      "15462/15462 [==============================] - 92s 6ms/sample - loss: 3.1641 - acc: 0.3723\n",
      "Epoch 36/100\n",
      "15462/15462 [==============================] - 91s 6ms/sample - loss: 3.0773 - acc: 0.3904\n",
      "Epoch 37/100\n",
      "15462/15462 [==============================] - 90s 6ms/sample - loss: 2.9892 - acc: 0.4145\n",
      "Epoch 38/100\n",
      "15462/15462 [==============================] - 98s 6ms/sample - loss: 2.9322 - acc: 0.4283\n",
      "Epoch 39/100\n",
      "15462/15462 [==============================] - 90s 6ms/sample - loss: 2.8530 - acc: 0.4426\n",
      "Epoch 40/100\n",
      "15462/15462 [==============================] - 92s 6ms/sample - loss: 2.7787 - acc: 0.4622\n",
      "Epoch 41/100\n",
      "15462/15462 [==============================] - 80s 5ms/sample - loss: 2.7011 - acc: 0.4798\n",
      "Epoch 42/100\n",
      "15462/15462 [==============================] - 93s 6ms/sample - loss: 2.6536 - acc: 0.4896\n",
      "Epoch 43/100\n",
      "15462/15462 [==============================] - 92s 6ms/sample - loss: 2.5828 - acc: 0.5049\n",
      "Epoch 44/100\n",
      "15462/15462 [==============================] - 90s 6ms/sample - loss: 2.5159 - acc: 0.5217\n",
      "Epoch 45/100\n",
      "15462/15462 [==============================] - 80s 5ms/sample - loss: 2.4588 - acc: 0.5356\n",
      "Epoch 46/100\n",
      "15462/15462 [==============================] - 82s 5ms/sample - loss: 2.4052 - acc: 0.5473\n",
      "Epoch 47/100\n",
      "15462/15462 [==============================] - 91s 6ms/sample - loss: 2.3641 - acc: 0.5578\n",
      "Epoch 48/100\n",
      "15462/15462 [==============================] - 97s 6ms/sample - loss: 2.2975 - acc: 0.5710\n",
      "Epoch 49/100\n",
      "15462/15462 [==============================] - 91s 6ms/sample - loss: 2.2496 - acc: 0.5841\n",
      "Epoch 50/100\n",
      "15462/15462 [==============================] - 81s 5ms/sample - loss: 2.2013 - acc: 0.5940\n",
      "Epoch 51/100\n",
      "15462/15462 [==============================] - 80s 5ms/sample - loss: 2.1610 - acc: 0.6021\n",
      "Epoch 52/100\n",
      "15462/15462 [==============================] - 80s 5ms/sample - loss: 2.1107 - acc: 0.6135\n",
      "Epoch 53/100\n",
      "15462/15462 [==============================] - 81s 5ms/sample - loss: 2.0764 - acc: 0.6180\n",
      "Epoch 54/100\n",
      "15462/15462 [==============================] - 80s 5ms/sample - loss: 2.0289 - acc: 0.6312\n",
      "Epoch 55/100\n",
      "15462/15462 [==============================] - 80s 5ms/sample - loss: 1.9857 - acc: 0.6433\n",
      "Epoch 56/100\n",
      "15462/15462 [==============================] - 83s 5ms/sample - loss: 1.9505 - acc: 0.6463\n",
      "Epoch 57/100\n",
      "15462/15462 [==============================] - 81s 5ms/sample - loss: 1.9158 - acc: 0.6539\n",
      "Epoch 58/100\n",
      "15462/15462 [==============================] - 94s 6ms/sample - loss: 1.8803 - acc: 0.6596\n",
      "Epoch 59/100\n",
      "15462/15462 [==============================] - 87s 6ms/sample - loss: 1.8449 - acc: 0.6696\n",
      "Epoch 60/100\n",
      "15462/15462 [==============================] - 84s 5ms/sample - loss: 1.8107 - acc: 0.67475s - loss: 1.8096 - acc: 0.67 - ETA: 4s \n",
      "Epoch 61/100\n",
      "15462/15462 [==============================] - 86s 6ms/sample - loss: 1.7682 - acc: 0.68730s - loss: 1.7689 - acc: 0\n",
      "Epoch 62/100\n",
      "15462/15462 [==============================] - 84s 5ms/sample - loss: 1.7467 - acc: 0.68918s - loss: 1.7377 -  - \n",
      "Epoch 63/100\n",
      "15462/15462 [==============================] - 88s 6ms/sample - loss: 1.7101 - acc: 0.6970\n",
      "Epoch 64/100\n",
      "15462/15462 [==============================] - 85s 5ms/sample - loss: 1.6842 - acc: 0.7023\n",
      "Epoch 65/100\n",
      "15462/15462 [==============================] - 84s 5ms/sample - loss: 1.6522 - acc: 0.7122\n",
      "Epoch 66/100\n",
      "15462/15462 [==============================] - 88s 6ms/sample - loss: 1.6301 - acc: 0.7169\n",
      "Epoch 67/100\n",
      "15462/15462 [==============================] - 82s 5ms/sample - loss: 1.5999 - acc: 0.7228\n",
      "Epoch 68/100\n",
      "15462/15462 [==============================] - 82s 5ms/sample - loss: 1.5856 - acc: 0.7255\n",
      "Epoch 69/100\n",
      "15462/15462 [==============================] - 92s 6ms/sample - loss: 1.5505 - acc: 0.7351\n",
      "Epoch 70/100\n",
      "15462/15462 [==============================] - 88s 6ms/sample - loss: 1.5214 - acc: 0.7367ETA: 4s \n",
      "Epoch 71/100\n",
      "15462/15462 [==============================] - 87s 6ms/sample - loss: 1.5088 - acc: 0.7383\n",
      "Epoch 72/100\n",
      "15462/15462 [==============================] - 88s 6ms/sample - loss: 1.5013 - acc: 0.7390\n",
      "Epoch 73/100\n",
      "15462/15462 [==============================] - 88s 6ms/sample - loss: 1.4720 - acc: 0.7455\n",
      "Epoch 74/100\n",
      "15462/15462 [==============================] - 88s 6ms/sample - loss: 1.4478 - acc: 0.7494\n",
      "Epoch 75/100\n",
      "15462/15462 [==============================] - 87s 6ms/sample - loss: 1.4299 - acc: 0.7537\n",
      "Epoch 76/100\n",
      "15462/15462 [==============================] - 87s 6ms/sample - loss: 1.4078 - acc: 0.7571\n",
      "Epoch 77/100\n",
      "15462/15462 [==============================] - 87s 6ms/sample - loss: 1.3930 - acc: 0.761715s - loss: 1.3803 - acc: 0\n",
      "Epoch 78/100\n"
     ]
    },
    {
     "name": "stdout",
     "output_type": "stream",
     "text": [
      "15462/15462 [==============================] - 89s 6ms/sample - loss: 1.3707 - acc: 0.7664\n",
      "Epoch 79/100\n",
      "15462/15462 [==============================] - 83s 5ms/sample - loss: 1.3452 - acc: 0.7718\n",
      "Epoch 80/100\n",
      "15462/15462 [==============================] - 81s 5ms/sample - loss: 1.3372 - acc: 0.7691\n",
      "Epoch 81/100\n",
      "15462/15462 [==============================] - 80s 5ms/sample - loss: 1.3240 - acc: 0.7744\n",
      "Epoch 82/100\n",
      "15462/15462 [==============================] - 88s 6ms/sample - loss: 1.3024 - acc: 0.77639s - loss: 1.2948\n",
      "Epoch 83/100\n",
      "15462/15462 [==============================] - 84s 5ms/sample - loss: 1.3020 - acc: 0.7753\n",
      "Epoch 84/100\n",
      "15462/15462 [==============================] - 83s 5ms/sample - loss: 1.2762 - acc: 0.7824\n",
      "Epoch 85/100\n",
      "15462/15462 [==============================] - 82s 5ms/sample - loss: 1.2588 - acc: 0.7846\n",
      "Epoch 86/100\n",
      "15462/15462 [==============================] - 83s 5ms/sample - loss: 1.2612 - acc: 0.7820\n",
      "Epoch 87/100\n",
      "15462/15462 [==============================] - 82s 5ms/sample - loss: 1.2358 - acc: 0.7892\n",
      "Epoch 88/100\n",
      "15462/15462 [==============================] - 82s 5ms/sample - loss: 1.2221 - acc: 0.7912\n",
      "Epoch 89/100\n",
      "15462/15462 [==============================] - 82s 5ms/sample - loss: 1.2088 - acc: 0.7933\n",
      "Epoch 90/100\n",
      "15462/15462 [==============================] - 82s 5ms/sample - loss: 1.2022 - acc: 0.7926\n",
      "Epoch 91/100\n",
      "15462/15462 [==============================] - 82s 5ms/sample - loss: 1.2052 - acc: 0.7919\n",
      "Epoch 92/100\n",
      "15462/15462 [==============================] - 82s 5ms/sample - loss: 1.1840 - acc: 0.7974\n",
      "Epoch 93/100\n",
      "15462/15462 [==============================] - 82s 5ms/sample - loss: 1.1633 - acc: 0.8018\n",
      "Epoch 94/100\n",
      "15462/15462 [==============================] - 82s 5ms/sample - loss: 1.1617 - acc: 0.7987\n",
      "Epoch 95/100\n",
      "15462/15462 [==============================] - 82s 5ms/sample - loss: 1.1417 - acc: 0.8043\n",
      "Epoch 96/100\n",
      "15462/15462 [==============================] - 82s 5ms/sample - loss: 1.1361 - acc: 0.8058\n",
      "Epoch 97/100\n",
      "15462/15462 [==============================] - 82s 5ms/sample - loss: 1.1411 - acc: 0.7998\n",
      "Epoch 98/100\n",
      "15462/15462 [==============================] - 82s 5ms/sample - loss: 1.1376 - acc: 0.7992\n",
      "Epoch 99/100\n",
      "15462/15462 [==============================] - 82s 5ms/sample - loss: 1.1080 - acc: 0.8090\n",
      "Epoch 100/100\n",
      "15462/15462 [==============================] - 83s 5ms/sample - loss: 1.0911 - acc: 0.8113\n"
     ]
    }
   ],
   "source": [
    " history = model.fit(predictors, label, epochs=100, verbose=1)"
   ]
  },
  {
   "cell_type": "code",
   "execution_count": 25,
   "metadata": {},
   "outputs": [
    {
     "data": {
      "image/png": "[encoded data removed]",
      "text/plain": [
       "<Figure size 432x288 with 1 Axes>"
      ]
     },
     "metadata": {
      "needs_background": "light"
     },
     "output_type": "display_data"
    },
    {
     "data": {
      "image/png": "[encoded data removed]",
      "text/plain": [
       "<Figure size 432x288 with 1 Axes>"
      ]
     },
     "metadata": {
      "needs_background": "light"
     },
     "output_type": "display_data"
    }
   ],
   "source": [
    "import matplotlib.pyplot as plt\n",
    "acc = history.history['acc']\n",
    "loss = history.history['loss']\n",
    "\n",
    "epochs = range(len(acc))\n",
    "\n",
    "plt.plot(epochs, acc, 'b', label='Training accuracy')\n",
    "plt.title('Training accuracy')\n",
    "\n",
    "plt.figure()\n",
    "\n",
    "plt.plot(epochs, loss, 'b', label='Training Loss')\n",
    "plt.title('Training loss')\n",
    "plt.legend()\n",
    "\n",
    "plt.show()"
   ]
  },
  {
   "cell_type": "code",
   "execution_count": 26,
   "metadata": {},
   "outputs": [
    {
     "name": "stdout",
     "output_type": "stream",
     "text": [
      "Help me Obi Wan Kenobi, you're my only hope or me thy name alone still foes lend make days new rare rare still live shows spent more rage doth men's fled be fled too fled old 'will ' can ' can give prove forth other blind friend bright loss forth sight days days seem bright days o'er stand forth him days forth men days live so ill ill good pride words new ill still new now be still dear 'will ' bearing own 'will pride ' doth shine bad lost doth hide me so bold me still so hell doth stand still foes hate leaves lend make worth him\n"
     ]
    }
   ],
   "source": [
    "seed_text = \"Help me Obi Wan Kenobi, you're my only hope\"\n",
    "next_words = 100\n",
    "  \n",
    "for _ in range(next_words):\n",
    "\ttoken_list = tokenizer.texts_to_sequences([seed_text])[0]\n",
    "\ttoken_list = pad_sequences([token_list], maxlen=max_sequence_len-1, padding='pre')\n",
    "\tpredicted = model.predict_classes(token_list, verbose=0)\n",
    "\toutput_word = \"\"\n",
    "\tfor word, index in tokenizer.word_index.items():\n",
    "\t\tif index == predicted:\n",
    "\t\t\toutput_word = word\n",
    "\t\t\tbreak\n",
    "\tseed_text += \" \" + output_word\n",
    "print(seed_text)"
   ]
  },
  {
   "cell_type": "code",
   "execution_count": null,
   "metadata": {},
   "outputs": [],
   "source": []
  }
 ],
 "metadata": {
  "kernelspec": {
   "display_name": "Python 3",
   "language": "python",
   "name": "python3"
  },
  "language_info": {
   "codemirror_mode": {
    "name": "ipython",
    "version": 3
   },
   "file_extension": ".py",
   "mimetype": "text/x-python",
   "name": "python",
   "nbconvert_exporter": "python",
   "pygments_lexer": "ipython3",
   "version": "3.5.4"
  }
 },
 "nbformat": 4,
 "nbformat_minor": 4
}
